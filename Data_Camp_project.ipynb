{
 "cells": [
  {
   "cell_type": "code",
   "execution_count": 2,
   "metadata": {
    "colab": {},
    "colab_type": "code",
    "id": "7mSo3xdh72Gd"
   },
   "outputs": [],
   "source": [
    "import pandas as pd \n",
    "import numpy as np \n",
    "import matplotlib.pyplot as plt \n",
    "import collections\n",
    "import seaborn as sns\n",
    "from sklearn.metrics import accuracy_score, confusion_matrix\n",
    "from sklearn.ensemble import RandomForestClassifier"
   ]
  },
  {
   "cell_type": "markdown",
   "metadata": {},
   "source": [
    "# Load data "
   ]
  },
  {
   "cell_type": "code",
   "execution_count": 3,
   "metadata": {
    "colab": {},
    "colab_type": "code",
    "id": "B8wWjUNm8A5a"
   },
   "outputs": [],
   "source": [
    "df = pd.read_csv(\"subventions-accordees-et-refusees.csv\",delimiter = ';')"
   ]
  },
  {
   "cell_type": "code",
   "execution_count": 4,
   "metadata": {
    "colab": {
     "base_uri": "https://localhost:8080/",
     "height": 101
    },
    "colab_type": "code",
    "id": "QWOdRJhj8DVQ",
    "outputId": "b91cf3d1-474a-48e1-d5d7-3abe3d6f98c2"
   },
   "outputs": [
    {
     "data": {
      "text/plain": [
       "(59130, 10)"
      ]
     },
     "execution_count": 4,
     "metadata": {},
     "output_type": "execute_result"
    }
   ],
   "source": [
    "df.shape"
   ]
  },
  {
   "cell_type": "code",
   "execution_count": 5,
   "metadata": {
    "scrolled": true
   },
   "outputs": [
    {
     "data": {
      "text/html": [
       "<div>\n",
       "<style scoped>\n",
       "    .dataframe tbody tr th:only-of-type {\n",
       "        vertical-align: middle;\n",
       "    }\n",
       "\n",
       "    .dataframe tbody tr th {\n",
       "        vertical-align: top;\n",
       "    }\n",
       "\n",
       "    .dataframe thead th {\n",
       "        text-align: right;\n",
       "    }\n",
       "</style>\n",
       "<table border=\"1\" class=\"dataframe\">\n",
       "  <thead>\n",
       "    <tr style=\"text-align: right;\">\n",
       "      <th></th>\n",
       "      <th>Numéro de dossier</th>\n",
       "      <th>Année budgétaire</th>\n",
       "      <th>Collectivité</th>\n",
       "      <th>Nom Bénéficiaire</th>\n",
       "      <th>Numéro Siret</th>\n",
       "      <th>Objet du dossier</th>\n",
       "      <th>Montant voté</th>\n",
       "      <th>Direction</th>\n",
       "      <th>Nature de la subvention</th>\n",
       "      <th>Secteurs d'activités définies par l'association</th>\n",
       "    </tr>\n",
       "  </thead>\n",
       "  <tbody>\n",
       "    <tr>\n",
       "      <th>0</th>\n",
       "      <td>2017_07217</td>\n",
       "      <td>2017</td>\n",
       "      <td>Ville de Paris</td>\n",
       "      <td>MU</td>\n",
       "      <td>44849529100057</td>\n",
       "      <td>Embrasser</td>\n",
       "      <td>0</td>\n",
       "      <td>DAC</td>\n",
       "      <td>Non précisée</td>\n",
       "      <td>Communication &amp; média;Culture &amp; Arts;Technique...</td>\n",
       "    </tr>\n",
       "    <tr>\n",
       "      <th>1</th>\n",
       "      <td>2017_03526</td>\n",
       "      <td>2017</td>\n",
       "      <td>Ville de Paris</td>\n",
       "      <td>MU</td>\n",
       "      <td>44849529100057</td>\n",
       "      <td>fonctionnement</td>\n",
       "      <td>25000</td>\n",
       "      <td>DAC</td>\n",
       "      <td>Fonctionnement</td>\n",
       "      <td>Communication &amp; média;Culture &amp; Arts;Technique...</td>\n",
       "    </tr>\n",
       "    <tr>\n",
       "      <th>2</th>\n",
       "      <td>2017_01057</td>\n",
       "      <td>2017</td>\n",
       "      <td>Ville de Paris</td>\n",
       "      <td>MULTIKULTIMEDIA</td>\n",
       "      <td>79118462500014</td>\n",
       "      <td>D'ailleurs et d'ici 2017</td>\n",
       "      <td>5000</td>\n",
       "      <td>DDCT</td>\n",
       "      <td>Projet</td>\n",
       "      <td>Communication &amp; média;Mémoire;Social</td>\n",
       "    </tr>\n",
       "    <tr>\n",
       "      <th>3</th>\n",
       "      <td>2017_01513</td>\n",
       "      <td>2017</td>\n",
       "      <td>Ville de Paris</td>\n",
       "      <td>NEZDAMES ET NEZSIEURS</td>\n",
       "      <td>49137876600027</td>\n",
       "      <td>festival Et 20 l'été</td>\n",
       "      <td>0</td>\n",
       "      <td>DAC</td>\n",
       "      <td>Non précisée</td>\n",
       "      <td>Culture &amp; Arts</td>\n",
       "    </tr>\n",
       "    <tr>\n",
       "      <th>4</th>\n",
       "      <td>2017_02858</td>\n",
       "      <td>2017</td>\n",
       "      <td>Ville de Paris</td>\n",
       "      <td>NO MAN'S LAND</td>\n",
       "      <td>53268273900026</td>\n",
       "      <td>Duo pour une amoureuse et son ordinateur</td>\n",
       "      <td>2500</td>\n",
       "      <td>DAC</td>\n",
       "      <td>Projet</td>\n",
       "      <td>Culture &amp; Arts</td>\n",
       "    </tr>\n",
       "  </tbody>\n",
       "</table>\n",
       "</div>"
      ],
      "text/plain": [
       "  Numéro de dossier  Année budgétaire    Collectivité       Nom Bénéficiaire  \\\n",
       "0        2017_07217              2017  Ville de Paris                     MU   \n",
       "1        2017_03526              2017  Ville de Paris                     MU   \n",
       "2        2017_01057              2017  Ville de Paris        MULTIKULTIMEDIA   \n",
       "3        2017_01513              2017  Ville de Paris  NEZDAMES ET NEZSIEURS   \n",
       "4        2017_02858              2017  Ville de Paris          NO MAN'S LAND   \n",
       "\n",
       "     Numéro Siret                          Objet du dossier  Montant voté  \\\n",
       "0  44849529100057                                 Embrasser             0   \n",
       "1  44849529100057                            fonctionnement         25000   \n",
       "2  79118462500014                  D'ailleurs et d'ici 2017          5000   \n",
       "3  49137876600027                      festival Et 20 l'été             0   \n",
       "4  53268273900026  Duo pour une amoureuse et son ordinateur          2500   \n",
       "\n",
       "  Direction Nature de la subvention  \\\n",
       "0       DAC            Non précisée   \n",
       "1       DAC          Fonctionnement   \n",
       "2      DDCT                  Projet   \n",
       "3       DAC            Non précisée   \n",
       "4       DAC                  Projet   \n",
       "\n",
       "     Secteurs d'activités définies par l'association  \n",
       "0  Communication & média;Culture & Arts;Technique...  \n",
       "1  Communication & média;Culture & Arts;Technique...  \n",
       "2               Communication & média;Mémoire;Social  \n",
       "3                                     Culture & Arts  \n",
       "4                                     Culture & Arts  "
      ]
     },
     "execution_count": 5,
     "metadata": {},
     "output_type": "execute_result"
    }
   ],
   "source": [
    "df.head()"
   ]
  },
  {
   "cell_type": "code",
   "execution_count": 19,
   "metadata": {},
   "outputs": [
    {
     "data": {
      "text/plain": [
       "numDoc                     0.000000\n",
       "anneeBudg                  0.000000\n",
       "collectivite               0.000000\n",
       "beneficiaire               0.000355\n",
       "siret                      0.002706\n",
       "objet du dossier           0.000000\n",
       "montant vote               0.000000\n",
       "direction                  0.000000\n",
       "Nature de la subvention    0.000000\n",
       "secteur activite           0.000000\n",
       "dtype: float64"
      ]
     },
     "execution_count": 19,
     "metadata": {},
     "output_type": "execute_result"
    }
   ],
   "source": [
    "df.isna().sum()/df.shape[0]"
   ]
  },
  {
   "cell_type": "markdown",
   "metadata": {},
   "source": [
    "# Data Vizualisation"
   ]
  },
  {
   "cell_type": "code",
   "execution_count": 6,
   "metadata": {
    "colab": {
     "base_uri": "https://localhost:8080/",
     "height": 34
    },
    "colab_type": "code",
    "id": "fu6xXBGS8Eay",
    "outputId": "4951d070-ebee-44dd-b37a-fd489737f351"
   },
   "outputs": [],
   "source": [
    "#remove the montant voté =0 \n",
    "#df = df[df[\"Montant voté\"]!=0]"
   ]
  },
  {
   "cell_type": "code",
   "execution_count": 7,
   "metadata": {
    "colab": {},
    "colab_type": "code",
    "id": "heI4CEGI8bHF"
   },
   "outputs": [],
   "source": [
    "# df.head()"
   ]
  },
  {
   "cell_type": "code",
   "execution_count": 8,
   "metadata": {},
   "outputs": [],
   "source": [
    "y = df[\"Montant voté\"]"
   ]
  },
  {
   "cell_type": "code",
   "execution_count": 9,
   "metadata": {},
   "outputs": [
    {
     "data": {
      "text/html": [
       "<div>\n",
       "<style scoped>\n",
       "    .dataframe tbody tr th:only-of-type {\n",
       "        vertical-align: middle;\n",
       "    }\n",
       "\n",
       "    .dataframe tbody tr th {\n",
       "        vertical-align: top;\n",
       "    }\n",
       "\n",
       "    .dataframe thead th {\n",
       "        text-align: right;\n",
       "    }\n",
       "</style>\n",
       "<table border=\"1\" class=\"dataframe\">\n",
       "  <thead>\n",
       "    <tr style=\"text-align: right;\">\n",
       "      <th></th>\n",
       "      <th>numDoc</th>\n",
       "      <th>anneeBudg</th>\n",
       "      <th>collectivite</th>\n",
       "      <th>beneficiaire</th>\n",
       "      <th>siret</th>\n",
       "      <th>objet du dossier</th>\n",
       "      <th>montant vote</th>\n",
       "      <th>direction</th>\n",
       "      <th>Nature de la subvention</th>\n",
       "      <th>secteur activite</th>\n",
       "    </tr>\n",
       "  </thead>\n",
       "  <tbody>\n",
       "    <tr>\n",
       "      <th>0</th>\n",
       "      <td>2017_07217</td>\n",
       "      <td>2017</td>\n",
       "      <td>Ville de Paris</td>\n",
       "      <td>MU</td>\n",
       "      <td>44849529100057</td>\n",
       "      <td>Embrasser</td>\n",
       "      <td>0</td>\n",
       "      <td>DAC</td>\n",
       "      <td>Non précisée</td>\n",
       "      <td>Communication &amp; média;Culture &amp; Arts;Technique...</td>\n",
       "    </tr>\n",
       "    <tr>\n",
       "      <th>1</th>\n",
       "      <td>2017_03526</td>\n",
       "      <td>2017</td>\n",
       "      <td>Ville de Paris</td>\n",
       "      <td>MU</td>\n",
       "      <td>44849529100057</td>\n",
       "      <td>fonctionnement</td>\n",
       "      <td>25000</td>\n",
       "      <td>DAC</td>\n",
       "      <td>Fonctionnement</td>\n",
       "      <td>Communication &amp; média;Culture &amp; Arts;Technique...</td>\n",
       "    </tr>\n",
       "    <tr>\n",
       "      <th>2</th>\n",
       "      <td>2017_01057</td>\n",
       "      <td>2017</td>\n",
       "      <td>Ville de Paris</td>\n",
       "      <td>MULTIKULTIMEDIA</td>\n",
       "      <td>79118462500014</td>\n",
       "      <td>D'ailleurs et d'ici 2017</td>\n",
       "      <td>5000</td>\n",
       "      <td>DDCT</td>\n",
       "      <td>Projet</td>\n",
       "      <td>Communication &amp; média;Mémoire;Social</td>\n",
       "    </tr>\n",
       "    <tr>\n",
       "      <th>3</th>\n",
       "      <td>2017_01513</td>\n",
       "      <td>2017</td>\n",
       "      <td>Ville de Paris</td>\n",
       "      <td>NEZDAMES ET NEZSIEURS</td>\n",
       "      <td>49137876600027</td>\n",
       "      <td>festival Et 20 l'été</td>\n",
       "      <td>0</td>\n",
       "      <td>DAC</td>\n",
       "      <td>Non précisée</td>\n",
       "      <td>Culture &amp; Arts</td>\n",
       "    </tr>\n",
       "    <tr>\n",
       "      <th>4</th>\n",
       "      <td>2017_02858</td>\n",
       "      <td>2017</td>\n",
       "      <td>Ville de Paris</td>\n",
       "      <td>NO MAN'S LAND</td>\n",
       "      <td>53268273900026</td>\n",
       "      <td>Duo pour une amoureuse et son ordinateur</td>\n",
       "      <td>2500</td>\n",
       "      <td>DAC</td>\n",
       "      <td>Projet</td>\n",
       "      <td>Culture &amp; Arts</td>\n",
       "    </tr>\n",
       "  </tbody>\n",
       "</table>\n",
       "</div>"
      ],
      "text/plain": [
       "       numDoc  anneeBudg    collectivite           beneficiaire  \\\n",
       "0  2017_07217       2017  Ville de Paris                     MU   \n",
       "1  2017_03526       2017  Ville de Paris                     MU   \n",
       "2  2017_01057       2017  Ville de Paris        MULTIKULTIMEDIA   \n",
       "3  2017_01513       2017  Ville de Paris  NEZDAMES ET NEZSIEURS   \n",
       "4  2017_02858       2017  Ville de Paris          NO MAN'S LAND   \n",
       "\n",
       "            siret                          objet du dossier  montant vote  \\\n",
       "0  44849529100057                                 Embrasser             0   \n",
       "1  44849529100057                            fonctionnement         25000   \n",
       "2  79118462500014                  D'ailleurs et d'ici 2017          5000   \n",
       "3  49137876600027                      festival Et 20 l'été             0   \n",
       "4  53268273900026  Duo pour une amoureuse et son ordinateur          2500   \n",
       "\n",
       "  direction Nature de la subvention  \\\n",
       "0       DAC            Non précisée   \n",
       "1       DAC          Fonctionnement   \n",
       "2      DDCT                  Projet   \n",
       "3       DAC            Non précisée   \n",
       "4       DAC                  Projet   \n",
       "\n",
       "                                    secteur activite  \n",
       "0  Communication & média;Culture & Arts;Technique...  \n",
       "1  Communication & média;Culture & Arts;Technique...  \n",
       "2               Communication & média;Mémoire;Social  \n",
       "3                                     Culture & Arts  \n",
       "4                                     Culture & Arts  "
      ]
     },
     "execution_count": 9,
     "metadata": {},
     "output_type": "execute_result"
    }
   ],
   "source": [
    "df = df.rename(columns={'Numéro de dossier': 'numDoc', 'Année budgétaire': 'anneeBudg', 'Collectivité':'collectivite', \n",
    "                  'Nom Bénéficiaire': 'beneficiaire', 'Numéro Siret': 'siret','Objet du dossier':'objet du dossier',\n",
    "                  'Montant voté':'montant vote', 'Direction':'direction', 'Nature de la subvention': 'Nature de la subvention'\n",
    "                  , 'Secteurs d\\'activités définies par l\\'association': 'secteur activite'})\n",
    "df.head()"
   ]
  },
  {
   "cell_type": "code",
   "execution_count": 10,
   "metadata": {},
   "outputs": [],
   "source": [
    "df['secteur activite'].fillna('None', inplace=True)"
   ]
  },
  {
   "cell_type": "markdown",
   "metadata": {},
   "source": [
    "The mean of subventions is arround the 30 millions euros."
   ]
  },
  {
   "cell_type": "code",
   "execution_count": 11,
   "metadata": {},
   "outputs": [
    {
     "data": {
      "image/png": "[encoded data removed]",
      "text/plain": [
       "<Figure size 432x288 with 1 Axes>"
      ]
     },
     "metadata": {},
     "output_type": "display_data"
    }
   ],
   "source": [
    "plt.title(\"Subventions of every year\")\n",
    "plt.hist(df[\"anneeBudg\"])\n",
    "plt.show()"
   ]
  },
  {
   "cell_type": "code",
   "execution_count": 12,
   "metadata": {
    "colab": {
     "base_uri": "https://localhost:8080/",
     "height": 34
    },
    "colab_type": "code",
    "id": "29_qnUSx91vP",
    "outputId": "2109d878-fa28-4dbf-df46-c630c7bdeff1"
   },
   "outputs": [
    {
     "data": {
      "image/png": "[encoded data removed]",
      "text/plain": [
       "<Figure size 432x288 with 1 Axes>"
      ]
     },
     "metadata": {},
     "output_type": "display_data"
    }
   ],
   "source": [
    "plt.title(\"Distribution of the amount of subvention\")\n",
    "plt.plot(df[\"montant vote\"])\n",
    "plt.show()"
   ]
  },
  {
   "cell_type": "code",
   "execution_count": null,
   "metadata": {},
   "outputs": [],
   "source": [
    "plt.title(\"Collectivité\")\n",
    "plt.hist(df[\"collectivite\"]) \n",
    "plt.show()"
   ]
  },
  {
   "cell_type": "markdown",
   "metadata": {},
   "source": [
    "To get an idea about the the activities of the associations that benefit from subventions, let's extract the activity areas listed in the dataset and visualize the most popular ones."
   ]
  },
  {
   "cell_type": "code",
   "execution_count": null,
   "metadata": {},
   "outputs": [],
   "source": [
    "secteur_activite = []   #Will contain the activity areas listed in the column \"secteur activite\"\n",
    "for i in range(0, len(df),1): \n",
    "    secteur_activite.append(df['secteur activite'].iloc[i].split(';')[0])"
   ]
  },
  {
   "cell_type": "code",
   "execution_count": null,
   "metadata": {},
   "outputs": [],
   "source": [
    "dict_secteur_activite = collections.Counter(secteur_activite)\n",
    "\n",
    "secteurs = list(dict_secteur_activite.keys())\n",
    "occurence_secteur = list(dict_secteur_activite.values())\n",
    "\n",
    "percent = 100/sum(occurence_secteur) * np.array(occurence_secteur)\n",
    "plt.figure(figsize=(12,12))\n",
    "\n",
    "patches, texts = plt.pie(occurence_secteur, labels=None,\n",
    "                  shadow=True, startangle=90)\n",
    "\n",
    "labels = ['{0} - {1:1.2f} %'.format(i,j) for i,j in zip(secteurs, percent)]\n",
    "\n",
    "plt.legend(patches, labels, loc='upper left', bbox_to_anchor=(-0.1, 1.),\n",
    "           fontsize=8)"
   ]
  },
  {
   "cell_type": "markdown",
   "metadata": {},
   "source": [
    "The most popular projects proposed by the associations are in the fields of \"Culture and arts\" and \"Education and formation\".\n",
    "\n"
   ]
  },
  {
   "cell_type": "markdown",
   "metadata": {},
   "source": [
    "Let's visualize a barplot of the top fist associations that gained subventions the most time."
   ]
  },
  {
   "cell_type": "code",
   "execution_count": 76,
   "metadata": {},
   "outputs": [
    {
     "data": {
      "text/plain": [
       "Text(0.5, 1.0, 'The top first associations that gained subventions the most time ')"
      ]
     },
     "execution_count": 76,
     "metadata": {},
     "output_type": "execute_result"
    },
    {
     "data": {
      "image/png": "[encoded data removed]",
      "text/plain": [
       "<Figure size 864x648 with 1 Axes>"
      ]
     },
     "metadata": {
      "needs_background": "light"
     },
     "output_type": "display_data"
    }
   ],
   "source": [
    "plt.figure(figsize=(12,9))\n",
    "df['beneficiaire'].value_counts()[:20].plot(kind='barh')\n",
    "plt.title('The top first associations that gained subventions the most time ')"
   ]
  },
  {
   "cell_type": "markdown",
   "metadata": {},
   "source": [
    "As we can see in the next plot, the direction \"DAC\" has voted the bigger total amount of grants (around 600 million euros) followed by \"DFPE\" (around 400 million euros)."
   ]
  },
  {
   "cell_type": "code",
   "execution_count": 77,
   "metadata": {},
   "outputs": [
    {
     "data": {
      "text/plain": [
       "Text(0.5, 1.0, 'Total amount of grants voted by Direction (Main direction of grant)')"
      ]
     },
     "execution_count": 77,
     "metadata": {},
     "output_type": "execute_result"
    },
    {
     "data": {
      "image/png": "[encoded data removed]",
      "text/plain": [
       "<Figure size 1152x648 with 1 Axes>"
      ]
     },
     "metadata": {
      "needs_background": "light"
     },
     "output_type": "display_data"
    }
   ],
   "source": [
    "df1 = df[[\"direction\",\"montant vote\"]]\n",
    "total_montant_by_direction = df1.groupby(\"direction\")['montant vote'].apply(sum)\n",
    "sorted_montant_by_direction = dict(sorted(dict(total_montant_by_direction).items(),\n",
    "                                     key=lambda item: item[1], reverse=True))\n",
    "\n",
    "directions = list(sorted_montant_by_direction.keys())\n",
    "montants = list(sorted_montant_by_direction.values())\n",
    "\n",
    "plt.figure(figsize=(16,9))\n",
    "sns.barplot(x=directions, y=montants, orient='v')\n",
    "plt.xlabel('Direction')\n",
    "plt.ylabel('Total amount')\n",
    "plt.title('Total amount of grants voted by Direction (Main direction of grant)')\n",
    "\n"
   ]
  },
  {
   "cell_type": "code",
   "execution_count": 78,
   "metadata": {},
   "outputs": [
    {
     "data": {
      "text/plain": [
       "Text(0.5, 1.0, 'Total amount of grants voted by fiscal year')"
      ]
     },
     "execution_count": 78,
     "metadata": {},
     "output_type": "execute_result"
    },
    {
     "data": {
      "image/png": "[encoded data removed]",
      "text/plain": [
       "<Figure size 864x648 with 1 Axes>"
      ]
     },
     "metadata": {
      "needs_background": "light"
     },
     "output_type": "display_data"
    }
   ],
   "source": [
    "df1 = df[[\"anneeBudg\",\"montant vote\"]]\n",
    "total_montant_by_annee = df1.groupby(\"anneeBudg\")['montant vote'].apply(sum)\n",
    "sorted_montant_by_annee = dict(sorted(dict(total_montant_by_annee).items(),\n",
    "                                     key=lambda item: item[1], reverse=True))\n",
    "\n",
    "annee = list(sorted_montant_by_annee.keys())\n",
    "montants = list(sorted_montant_by_annee.values())\n",
    "\n",
    "plt.figure(figsize=(12,9))\n",
    "sns.barplot(x=annee, y=montants, orient='v')\n",
    "plt.xlabel('Fiscal year')\n",
    "plt.ylabel('Total amount')\n",
    "plt.title('Total amount of grants voted by fiscal year')"
   ]
  },
  {
   "cell_type": "markdown",
   "metadata": {},
   "source": [
    "The total amount of grants voted is increasing every year."
   ]
  },
  {
   "cell_type": "code",
   "execution_count": 79,
   "metadata": {
    "colab": {},
    "colab_type": "code",
    "id": "O0t_xMYD95xY"
   },
   "outputs": [],
   "source": [
    "for c in df.columns: \n",
    "    df[c] = df[c].astype(\"category\")  \n",
    "    df[c].fillna(df[c].mode(),inplace=True)\n",
    "    df[c] = df[c].cat.codes.values\n",
    "  "
   ]
  },
  {
   "cell_type": "code",
   "execution_count": 80,
   "metadata": {},
   "outputs": [
    {
     "data": {
      "text/html": [
       "<div>\n",
       "<style scoped>\n",
       "    .dataframe tbody tr th:only-of-type {\n",
       "        vertical-align: middle;\n",
       "    }\n",
       "\n",
       "    .dataframe tbody tr th {\n",
       "        vertical-align: top;\n",
       "    }\n",
       "\n",
       "    .dataframe thead th {\n",
       "        text-align: right;\n",
       "    }\n",
       "</style>\n",
       "<table border=\"1\" class=\"dataframe\">\n",
       "  <thead>\n",
       "    <tr style=\"text-align: right;\">\n",
       "      <th></th>\n",
       "      <th>numDoc</th>\n",
       "      <th>anneeBudg</th>\n",
       "      <th>collectivite</th>\n",
       "      <th>beneficiaire</th>\n",
       "      <th>siret</th>\n",
       "      <th>objet du dossier</th>\n",
       "      <th>montant vote</th>\n",
       "      <th>direction</th>\n",
       "      <th>Nature de la subvention</th>\n",
       "      <th>secteur activite</th>\n",
       "    </tr>\n",
       "  </thead>\n",
       "  <tbody>\n",
       "    <tr>\n",
       "      <td>0</td>\n",
       "      <td>39917</td>\n",
       "      <td>4</td>\n",
       "      <td>1</td>\n",
       "      <td>6957</td>\n",
       "      <td>2341</td>\n",
       "      <td>14467</td>\n",
       "      <td>0</td>\n",
       "      <td>1</td>\n",
       "      <td>2</td>\n",
       "      <td>145</td>\n",
       "    </tr>\n",
       "    <tr>\n",
       "      <td>1</td>\n",
       "      <td>36384</td>\n",
       "      <td>4</td>\n",
       "      <td>1</td>\n",
       "      <td>6957</td>\n",
       "      <td>2341</td>\n",
       "      <td>35435</td>\n",
       "      <td>1213</td>\n",
       "      <td>1</td>\n",
       "      <td>0</td>\n",
       "      <td>145</td>\n",
       "    </tr>\n",
       "    <tr>\n",
       "      <td>2</td>\n",
       "      <td>34037</td>\n",
       "      <td>4</td>\n",
       "      <td>1</td>\n",
       "      <td>6962</td>\n",
       "      <td>6071</td>\n",
       "      <td>11689</td>\n",
       "      <td>478</td>\n",
       "      <td>6</td>\n",
       "      <td>3</td>\n",
       "      <td>190</td>\n",
       "    </tr>\n",
       "    <tr>\n",
       "      <td>3</td>\n",
       "      <td>34482</td>\n",
       "      <td>4</td>\n",
       "      <td>1</td>\n",
       "      <td>7049</td>\n",
       "      <td>3161</td>\n",
       "      <td>35324</td>\n",
       "      <td>0</td>\n",
       "      <td>1</td>\n",
       "      <td>2</td>\n",
       "      <td>209</td>\n",
       "    </tr>\n",
       "    <tr>\n",
       "      <td>4</td>\n",
       "      <td>35784</td>\n",
       "      <td>4</td>\n",
       "      <td>1</td>\n",
       "      <td>7063</td>\n",
       "      <td>4749</td>\n",
       "      <td>13474</td>\n",
       "      <td>208</td>\n",
       "      <td>1</td>\n",
       "      <td>3</td>\n",
       "      <td>209</td>\n",
       "    </tr>\n",
       "  </tbody>\n",
       "</table>\n",
       "</div>"
      ],
      "text/plain": [
       "   numDoc  anneeBudg  collectivite  beneficiaire  siret  objet du dossier  \\\n",
       "0   39917          4             1          6957   2341             14467   \n",
       "1   36384          4             1          6957   2341             35435   \n",
       "2   34037          4             1          6962   6071             11689   \n",
       "3   34482          4             1          7049   3161             35324   \n",
       "4   35784          4             1          7063   4749             13474   \n",
       "\n",
       "   montant vote  direction  Nature de la subvention  secteur activite  \n",
       "0             0          1                        2               145  \n",
       "1          1213          1                        0               145  \n",
       "2           478          6                        3               190  \n",
       "3             0          1                        2               209  \n",
       "4           208          1                        3               209  "
      ]
     },
     "execution_count": 80,
     "metadata": {},
     "output_type": "execute_result"
    }
   ],
   "source": [
    "#data after encoding \n",
    "df.head()"
   ]
  },
  {
   "cell_type": "markdown",
   "metadata": {},
   "source": [
    "# General Idea of the model and metric"
   ]
  },
  {
   "cell_type": "markdown",
   "metadata": {},
   "source": [
    "The main idea of the model is to predict whether the organisation will get subvention and if yes how much.\n",
    "So the problem will basically be a classification problem with a class for the organization who did not get any subvention and other classes for the amount of the subvention.\n",
    "To understand better the idea,we suggest this distribution of classes that represent well the data "
   ]
  },
  {
   "cell_type": "code",
   "execution_count": 81,
   "metadata": {},
   "outputs": [
    {
     "data": {
      "text/plain": [
       "<BarContainer object of 6 artists>"
      ]
     },
     "execution_count": 81,
     "metadata": {},
     "output_type": "execute_result"
    },
    {
     "data": {
      "image/png": "[encoded data removed]",
      "text/plain": [
       "<Figure size 720x432 with 1 Axes>"
      ]
     },
     "metadata": {
      "needs_background": "light"
     },
     "output_type": "display_data"
    }
   ],
   "source": [
    "clusters_lengths = list()\n",
    "clusters_limits = [1,2500,5000,10000,25000,y.max()+1]\n",
    "y_new = list()\n",
    "clusters_lengths.append(len(y[y==0]))\n",
    "for i in range(len(clusters_limits)-1) : \n",
    "    a,b = clusters_limits[i],clusters_limits[i+1]\n",
    "    mask1 = y >a\n",
    "    mask2 = y< b\n",
    "    mask = mask1 & mask2\n",
    "    clusters_lengths.append(len(y[mask]))\n",
    "\n",
    "for k in y :\n",
    "    if k==0: \n",
    "        y_new.append(0)\n",
    "    else :\n",
    "        for i in range(len(clusters_limits)-1) : \n",
    "            a,b = clusters_limits[i],clusters_limits[i+1] \n",
    "            if (k >=a and k<b) : \n",
    "                y_new.append(i+1)\n",
    "\n",
    "class_names=[\"0€\",\"<2500€\",\"[2500€,5000€]\",\"[5000€,10000€]\",\" [10000€,25000€]\",\">25000€\"]   \n",
    "plt.figure(figsize=(10,6))\n",
    "plt.title(\"classes distribution\")\n",
    "plt.bar(class_names,clusters_lengths)"
   ]
  },
  {
   "cell_type": "markdown",
   "metadata": {},
   "source": [
    "We can see that there is a class imbalance.A solution for this imbalance would be by choosing the best class weights for this problem.We could tune this weights by most of the classifiers offered by sklearn.Example: using RandomForestClassifier\n",
    "We are going to priorize the model to make less errors when prediction the class 0 euro with the following code: "
   ]
  },
  {
   "cell_type": "code",
   "execution_count": 82,
   "metadata": {},
   "outputs": [],
   "source": [
    "n = len(clusters_lengths)\n",
    "coeff_0_class = 0.8\n",
    "class_weights = {}\n",
    "class_weights[0]=coeff_0_class\n",
    "for i in range(n-1):\n",
    "    class_weights[i+1]=(1-coeff_0_class)/(n-1)\n",
    "clf = RandomForestClassifier(n_estimators=256,class_weight=class_weights)"
   ]
  },
  {
   "cell_type": "code",
   "execution_count": 83,
   "metadata": {},
   "outputs": [
    {
     "data": {
      "image/png": "[encoded data removed]",
      "text/plain": [
       "<Figure size 432x288 with 2 Axes>"
      ]
     },
     "metadata": {
      "needs_background": "light"
     },
     "output_type": "display_data"
    }
   ],
   "source": [
    "X = df.drop([\"montant vote\",\"numDoc\"],axis=1)\n",
    "X_train,X_test,y_train,y_test = train_test_split(X,y_new,test_size=0.33) \n",
    "clf.fit(X_train,y_train)\n",
    "y_pred = clf.predict(X_test)\n",
    "CM = confusion_matrix(y_test,y_pred)\n",
    "CM = CM /CM.astype(np.float).sum(axis=1)\n",
    "df_cm = pd.DataFrame(CM, index = class_names,\n",
    "                  columns = class_names)\n",
    "plt.title(\"Confusion matrix\")\n",
    "sns.heatmap(df_cm, annot=True)\n",
    "\n",
    "b, t = plt.ylim() \n",
    "b += 0.5 \n",
    "t -= 0.5 \n",
    "plt.ylim(b, t) \n",
    "plt.show() # "
   ]
  },
  {
   "cell_type": "markdown",
   "metadata": {},
   "source": [
    "The model is well predicting the priorized class (class 0) with 0.93 accuracy "
   ]
  },
  {
   "cell_type": "markdown",
   "metadata": {},
   "source": [
    "## Metric : F1 score "
   ]
  },
  {
   "cell_type": "markdown",
   "metadata": {},
   "source": [
    "The F1 score is widely used to evaluate the performance of classification problems and it works as follows: \n",
    "(https://en.wikipedia.org/wiki/F1_score) "
   ]
  },
  {
   "cell_type": "markdown",
   "metadata": {},
   "source": [
    "${\\displaystyle F_{1}=\\left({\\frac {2}{\\mathrm {recall} ^{-1}+\\mathrm {precision} ^{-1}}}\\right)=2\\cdot {\\frac {\\mathrm {precision} \\cdot \\mathrm {recall} }{\\mathrm {precision} +\\mathrm {recall} }}}$"
   ]
  },
  {
   "cell_type": "markdown",
   "metadata": {},
   "source": [
    "<img src=\"https://upload.wikimedia.org/wikipedia/commons/thumb/2/26/Precisionrecall.svg/525px-Precisionrecall.svg.png\" >"
   ]
  },
  {
   "cell_type": "markdown",
   "metadata": {},
   "source": [
    "In our case we will use a modified F1 score where we give a weight for the F1 score for every class.This choice will give us the possibility to favorize a class over others as follows.\n",
    "\n",
    "$ Metric(y_{pred},y_{test}) = \\alpha_1F1_score(C_1)+\\alpha_2F1_score(C_2)+\\alpha_3F1_score(C_3)+\\alpha_4F1_score(C_4)+\\alpha_5F1_score(C_5)+\\alpha_6F1_score(C_6)  $"
   ]
  },
  {
   "cell_type": "code",
   "execution_count": 128,
   "metadata": {},
   "outputs": [],
   "source": [
    "def metric(y_pred,y_test,class_weights) :\n",
    "    n = len(class_weights)\n",
    "    score = 0\n",
    "    for i in range(n):\n",
    "        score += class_weights[i] * f1_score(y_pred,y_test,average = \"weighted\",labels=[i])\n",
    "    return (score)\n",
    "    "
   ]
  },
  {
   "cell_type": "code",
   "execution_count": 129,
   "metadata": {},
   "outputs": [
    {
     "data": {
      "text/plain": [
       "0.7098113186983973"
      ]
     },
     "execution_count": 129,
     "metadata": {},
     "output_type": "execute_result"
    }
   ],
   "source": [
    "#the class weights for the metric is determined by how much we want our model to predict a well a class compared to others \n",
    "#here is an example \n",
    "class_weights_metric= [0.4,0.12,0.12,0.12,0.12,0.12]\n",
    "#for the previous model and with weights (alphas)= class_weights_metric we got this score\n",
    "metric(y_pred,y_test,class_weights_metric)"
   ]
  },
  {
   "cell_type": "markdown",
   "metadata": {},
   "source": [
    "# Model"
   ]
  },
  {
   "cell_type": "code",
   "execution_count": 85,
   "metadata": {
    "colab": {},
    "colab_type": "code",
    "id": "hX6N9COs97tP"
   },
   "outputs": [],
   "source": [
    "from sklearn.ensemble import RandomForestRegressor\n",
    "from sklearn.ensemble import RandomForestClassifier\n",
    "from sklearn.model_selection import train_test_split \n",
    "from sklearn.model_selection import cross_val_score\n",
    "from sklearn.ensemble import AdaBoostRegressor\n",
    "from sklearn.tree import DecisionTreeRegressor\n",
    "from sklearn.svm import SVR"
   ]
  },
  {
   "cell_type": "code",
   "execution_count": 86,
   "metadata": {
    "colab": {},
    "colab_type": "code",
    "id": "Dcg4IMqW-fw4"
   },
   "outputs": [],
   "source": [
    "X = df.drop([\"montant vote\",\"numDoc\"],axis=1)"
   ]
  },
  {
   "cell_type": "code",
   "execution_count": 87,
   "metadata": {},
   "outputs": [
    {
     "data": {
      "text/html": [
       "<div>\n",
       "<style scoped>\n",
       "    .dataframe tbody tr th:only-of-type {\n",
       "        vertical-align: middle;\n",
       "    }\n",
       "\n",
       "    .dataframe tbody tr th {\n",
       "        vertical-align: top;\n",
       "    }\n",
       "\n",
       "    .dataframe thead th {\n",
       "        text-align: right;\n",
       "    }\n",
       "</style>\n",
       "<table border=\"1\" class=\"dataframe\">\n",
       "  <thead>\n",
       "    <tr style=\"text-align: right;\">\n",
       "      <th></th>\n",
       "      <th>anneeBudg</th>\n",
       "      <th>collectivite</th>\n",
       "      <th>beneficiaire</th>\n",
       "      <th>siret</th>\n",
       "      <th>objet du dossier</th>\n",
       "      <th>direction</th>\n",
       "      <th>Nature de la subvention</th>\n",
       "      <th>secteur activite</th>\n",
       "    </tr>\n",
       "  </thead>\n",
       "  <tbody>\n",
       "    <tr>\n",
       "      <td>0</td>\n",
       "      <td>4</td>\n",
       "      <td>1</td>\n",
       "      <td>6957</td>\n",
       "      <td>2341</td>\n",
       "      <td>14467</td>\n",
       "      <td>1</td>\n",
       "      <td>2</td>\n",
       "      <td>145</td>\n",
       "    </tr>\n",
       "    <tr>\n",
       "      <td>1</td>\n",
       "      <td>4</td>\n",
       "      <td>1</td>\n",
       "      <td>6957</td>\n",
       "      <td>2341</td>\n",
       "      <td>35435</td>\n",
       "      <td>1</td>\n",
       "      <td>0</td>\n",
       "      <td>145</td>\n",
       "    </tr>\n",
       "    <tr>\n",
       "      <td>2</td>\n",
       "      <td>4</td>\n",
       "      <td>1</td>\n",
       "      <td>6962</td>\n",
       "      <td>6071</td>\n",
       "      <td>11689</td>\n",
       "      <td>6</td>\n",
       "      <td>3</td>\n",
       "      <td>190</td>\n",
       "    </tr>\n",
       "    <tr>\n",
       "      <td>3</td>\n",
       "      <td>4</td>\n",
       "      <td>1</td>\n",
       "      <td>7049</td>\n",
       "      <td>3161</td>\n",
       "      <td>35324</td>\n",
       "      <td>1</td>\n",
       "      <td>2</td>\n",
       "      <td>209</td>\n",
       "    </tr>\n",
       "    <tr>\n",
       "      <td>4</td>\n",
       "      <td>4</td>\n",
       "      <td>1</td>\n",
       "      <td>7063</td>\n",
       "      <td>4749</td>\n",
       "      <td>13474</td>\n",
       "      <td>1</td>\n",
       "      <td>3</td>\n",
       "      <td>209</td>\n",
       "    </tr>\n",
       "  </tbody>\n",
       "</table>\n",
       "</div>"
      ],
      "text/plain": [
       "   anneeBudg  collectivite  beneficiaire  siret  objet du dossier  direction  \\\n",
       "0          4             1          6957   2341             14467          1   \n",
       "1          4             1          6957   2341             35435          1   \n",
       "2          4             1          6962   6071             11689          6   \n",
       "3          4             1          7049   3161             35324          1   \n",
       "4          4             1          7063   4749             13474          1   \n",
       "\n",
       "   Nature de la subvention  secteur activite  \n",
       "0                        2               145  \n",
       "1                        0               145  \n",
       "2                        3               190  \n",
       "3                        2               209  \n",
       "4                        3               209  "
      ]
     },
     "execution_count": 87,
     "metadata": {},
     "output_type": "execute_result"
    }
   ],
   "source": [
    "X.head()"
   ]
  },
  {
   "cell_type": "code",
   "execution_count": 88,
   "metadata": {
    "colab": {},
    "colab_type": "code",
    "id": "CijSV_B1_S-I"
   },
   "outputs": [],
   "source": [
    "clf = RandomForestRegressor(n_estimators=64 ) \n",
    "#clf = AdaBoostRegressor(DecisionTreeRegressor(max_depth=128),n_estimators=64, random_state=np.random.RandomState(1))\n"
   ]
  },
  {
   "cell_type": "code",
   "execution_count": 89,
   "metadata": {
    "colab": {
     "base_uri": "https://localhost:8080/",
     "height": 34
    },
    "colab_type": "code",
    "id": "B6jaS0_q_Tu2",
    "outputId": "e2f46280-807d-40c5-8302-99e90b61de31"
   },
   "outputs": [
    {
     "data": {
      "text/plain": [
       "array([0.70841632, 0.6041573 , 0.68470149, 0.77257346, 0.54452561])"
      ]
     },
     "execution_count": 89,
     "metadata": {},
     "output_type": "execute_result"
    }
   ],
   "source": [
    "# predict montant voté\n",
    "scores = cross_val_score(clf,X, y, cv=5)\n",
    "scores"
   ]
  },
  {
   "cell_type": "code",
   "execution_count": 90,
   "metadata": {},
   "outputs": [
    {
     "data": {
      "image/png": "[encoded data removed]",
      "text/plain": [
       "<Figure size 432x288 with 1 Axes>"
      ]
     },
     "metadata": {
      "needs_background": "light"
     },
     "output_type": "display_data"
    }
   ],
   "source": [
    "plt.title(\"Cross validation (5)\")\n",
    "plt.bar([str(i*100)[:5] for i in scores] ,scores)\n",
    "plt.bar(\"Mean=\"+ str(np.mean(scores)*100)[:5],np.mean(scores))\n",
    "plt.show()"
   ]
  },
  {
   "cell_type": "code",
   "execution_count": 91,
   "metadata": {
    "colab": {
     "base_uri": "https://localhost:8080/",
     "height": 34
    },
    "colab_type": "code",
    "id": "0gah6f0r_s8T",
    "outputId": "29af0392-1256-4197-843e-12ce83506142"
   },
   "outputs": [
    {
     "data": {
      "text/plain": [
       "0.6628748380183651"
      ]
     },
     "execution_count": 91,
     "metadata": {},
     "output_type": "execute_result"
    }
   ],
   "source": [
    "np.mean(scores)"
   ]
  },
  {
   "cell_type": "markdown",
   "metadata": {},
   "source": [
    "# Viz model"
   ]
  },
  {
   "cell_type": "code",
   "execution_count": 92,
   "metadata": {
    "colab": {},
    "colab_type": "code",
    "id": "xA3qG3APKgDR"
   },
   "outputs": [],
   "source": [
    "X_train,X_test,y_train,y_test = train_test_split(X,y,test_size=0.33) \n",
    "clf.fit(X_train,y_train)\n",
    "y_pred = clf.predict(X_test)"
   ]
  },
  {
   "cell_type": "code",
   "execution_count": 93,
   "metadata": {
    "colab": {
     "base_uri": "https://localhost:8080/",
     "height": 283
    },
    "colab_type": "code",
    "id": "flrLxPK2KrhS",
    "outputId": "8029c9bf-4460-499a-efe5-a5c32aebcbec"
   },
   "outputs": [
    {
     "data": {
      "image/png": "[encoded data removed]",
      "text/plain": [
       "<Figure size 432x288 with 1 Axes>"
      ]
     },
     "metadata": {
      "needs_background": "light"
     },
     "output_type": "display_data"
    }
   ],
   "source": [
    "dist = 100\n",
    "plt.plot(range(dist),y_pred[:dist],label = \"y_predicted\")\n",
    "plt.plot(range(dist),y_test[:dist],label =\"y_test\")\n",
    "plt.legend()\n",
    "plt.show()"
   ]
  }
 ],
 "metadata": {
  "colab": {
   "name": "Data Camp project.ipynb",
   "provenance": []
  },
  "kernelspec": {
   "display_name": "Python 3",
   "language": "python",
   "name": "python3"
  },
  "language_info": {
   "codemirror_mode": {
    "name": "ipython",
    "version": 3
   },
   "file_extension": ".py",
   "mimetype": "text/x-python",
   "name": "python",
   "nbconvert_exporter": "python",
   "pygments_lexer": "ipython3",
   "version": "3.7.4"
  }
 },
 "nbformat": 4,
 "nbformat_minor": 1
}
