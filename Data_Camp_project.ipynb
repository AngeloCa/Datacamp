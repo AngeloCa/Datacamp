{
 "cells": [
  {
   "cell_type": "markdown",
   "metadata": {},
   "source": [
    "<div style=\"text-align: left;\">\n",
    "<table style=\"width:100%; background-color:transparent;\">\n",
    "  <tr style=\"background-color:transparent;\">\n",
    "    <td style=\"background-color:transparent;\"><a href=\"http://www.datascience-paris-saclay.fr\">\n",
    "<img border=\"0\" src=\"http://project.inria.fr/saclaycds/files/2017/02/logoUPSayPlusCDS_990.png\" width=\"90%\"> </td>\n",
    "     \n",
    "  </tr>\n",
    "</table> \n",
    "</div>\n",
    "\n",
    "<center><h1>Parisian associations grants prediction challenge</h1></center>\n",
    "<br/>\n",
    "<center><b>Angelo CANESSO, Enrique GOMEZ, Saif Eddine GHRIBI,<br /> \n",
    "Ramzi HAMDI, Ahlem JOUIDI, Leandro NASCIMIENTO</b></center>"
   ]
  },
  {
   "cell_type": "markdown",
   "metadata": {},
   "source": [
    "## Table of Contents\n",
    "\n",
    "1. [Introduction](#Introduction)\n",
    "2. [Goal](#Goal)\n",
    "3. [Elements](#Elements)\n",
    "  1. [Predictor](#Predictor)\n",
    "  2. [Score Metric](#Score-Metric)\n",
    "    1. [Classification Metric](#Classification-Metric)\n",
    "    2. [Regression Metric](#Regression-Metric)\n",
    "  3. [Data](#Data)\n",
    "4. [Data Analysis](#Data-Analysis)\n",
    "  1. [Load Libraries](#Load-Libraries)\n",
    "  2. [Load Data](#Load-Data)\n",
    "  3. [Data Exploration](#Data-Exploration)\n",
    "  4. [Data Visualization](#Data-Visualization)\n",
    "5. [Pipeline](#Pipeline)\n",
    "  1. [Feature Extractor](#Feature-Extractor)\n",
    "  2. [Regressor](#Regressor)\n",
    "  3. [Training](#Training)\n",
    "  4. [Score Comparison](#Score-Comparison)\n",
    "6. [Using RAMP](#Using-RAMP)\n",
    "  1. [Submission Structure](#Submission-Structure)\n",
    "  2. [Local Testing](#Local-Testing)\n",
    "  3. [Submitting to RAMP studio](#Submitting-to-[ramp.studio](http://ramp.studio))\n",
    "7. [More information](#More-information)"
   ]
  },
  {
   "cell_type": "markdown",
   "metadata": {},
   "source": [
    "# Introduction\n",
    "\n",
    "Associations are an important part of life in France. Nearly a half of the total population participates in at least one of these entities. Their attractivity is linked to their versatility and the ease of forming one. In fact, there are associations of all kinds. From culture to sports or education, we can find associations in almost every aspect of life. There is no excuse not to be part of one. Moreover, the steps to form one are straight forward. Although it is necessary to fill up some forms, it usually does not take much time to complete all the procedures.\n",
    "\n",
    "Appart from having the pleasure to work alongside people with common interests, being able to manage money without being taxed (in most cases) is arguably the best advantage of associations. In fact, they can generate wealth by doing profitable activities or receive funds from public or private sources. This money has to benefit exclusively the association as a whole and not some particular members. In that fashion, a sports club can buy the equipment for its members or a humanitarian association can offer free food for homeless people.\n",
    "\n",
    "Nevertheless, most associations cannot make enough money on their own and have to rely on public institutions for funding in the form of grants, equipment, accomodations, etc. Unfortunately, the associative jungle is large (cumulative budget of associations goes up to 70 billion of euros) and grants cannot be given to all. So, each public entity makes a selection of applications in order to give grants in a fair manner. For example, Paris city calls for projects and gives grants according to the budget specified in the application form. This comes to determine whether the association's project is worth the money it is asking.\n",
    "\n",
    "Therefore, we found interesting to design a model to estimate how worth a project is based on a given application form and give the subvention if the amount of asked money is reasonable. The model could be useful for public institutions to ease the decision-making process. This problem could be extrapolated to add constraints such as the maximum budget approved by the intitutions for grants. Additionally, it could help associations to know beforehand if they will probably receive the grant in order to calibrate their expectations."
   ]
  },
  {
   "cell_type": "markdown",
   "metadata": {
    "heading_collapsed": true
   },
   "source": [
    "# Goal\n",
    "\n",
    "The aim of this challenge is to use the dataset `subventions-accordees-et-refusees.csv` to predict if each project  deserves a grant and, if so, how much money it should receive. This will be done in two separate tasks.  \n",
    "The first thing to determine is if a grant will  be given to an association based on the information filled up on the application form. This information could be useful for either the association and the public institution. The former would know in advance its chances to get the grant. The latter will have a decision making tool available.\n",
    "\n",
    "Then, we want to predict how much money the association should receive. The public entities could use this information for planification and, eventually, for fraud detection if the model is very accurate."
   ]
  },
  {
   "cell_type": "markdown",
   "metadata": {
    "heading_collapsed": true
   },
   "source": [
    "# Elements\n",
    "\n",
    "## Predictor\n",
    "\n",
    "Two predictors will be used to accomplish those tasks: a **classifier** and a **regressor**. The former will determine if a grant is given or not. So, this task is a binary classification. Then, if the granted was given by the first predictor, the second objective is determine how much the project is worth. This second task will be accomplished by a regressor."
   ]
  },
  {
   "cell_type": "markdown",
   "metadata": {
    "hidden": true
   },
   "source": [
    "## Data\n",
    "\n",
    "The data used in this challenge was extracted from the website [opendata.paris.fr](https://opendata.paris.fr/). This site contains all the datasets published by the City of Paris and its associates following the initiative **Open Data**, which promotes the democratization of information and transparency of institutions.\n",
    "\n",
    "Our dataset contains the list of grants given (or not) to associations by the City of Paris from 2013 to 2019 (and given by the Île-de-France Department from 2013 to 2018, when it merged with City of Paris). It contains only grants given to associations (registered under the *\"loi 1901\"*) and not those given to non associative organisms (like SCOP, SCIC, public entities, etc.). The no financial contributions (infrastructure, equipment, materials, staff) are not included either \n",
    "\n",
    "Every grant request (so every entry in the dataset) contains this information:\n",
    "\n",
    "- `Financial Year` (Année budgétaire)\n",
    "- `Collectivity` (Collectivité) : City or department (from 2013 to 2018).\n",
    "- `Association's Name` (Nom Bénéficiaire)\n",
    "- `Siret number` (Numéro Siret)\n",
    "- `Object` (Objet du dossier) : Title of the project(s) which were presented to apply for a grant\n",
    "- `Voted amount` (Montant voté) : Amount of money given by the Paris City Council after the evaluation of the application. If the value is missing, the application was rejected and the grant not given\n",
    "- `Direction` (Direction) : Direction of the city treating the grant application (many direction could co-finance a project)\n",
    "- `Grant Type` (Nature de la subvention) :\n",
    "  - `Investment` (Investissement) : finance the goods which represent the patrimony of the association\n",
    "  - `Exploitation` (Fonctionnement) : \n",
    "      - For the  association's annual expenses.\n",
    "      - For the  association's projects.\n",
    "- `Association's Fields` (Secteur d’activités)"
   ]
  },
  {
   "cell_type": "markdown",
   "metadata": {},
   "source": [
    "# Data Analysis"
   ]
  },
  {
   "cell_type": "markdown",
   "metadata": {
    "heading_collapsed": true
   },
   "source": [
    "## Load Libraries"
   ]
  },
  {
   "cell_type": "code",
   "execution_count": 1,
   "metadata": {
    "colab": {},
    "colab_type": "code",
    "hidden": true,
    "id": "7mSo3xdh72Gd"
   },
   "outputs": [],
   "source": [
    "import pandas as pd\n",
    "import numpy as np\n",
    "import matplotlib.pyplot as plt\n",
    "import collections\n",
    "import seaborn as sns\n",
    "from sklearn.metrics import accuracy_score, confusion_matrix, f1_score\n",
    "from sklearn.ensemble import RandomForestClassifier\n",
    "from sklearn.model_selection import train_test_split"
   ]
  },
  {
   "cell_type": "markdown",
   "metadata": {},
   "source": [
    "## Load data "
   ]
  },
  {
   "cell_type": "code",
   "execution_count": 2,
   "metadata": {
    "colab": {},
    "colab_type": "code",
    "id": "B8wWjUNm8A5a"
   },
   "outputs": [],
   "source": [
    "df = pd.read_csv(\"subventions-accordees-et-refusees.csv\", delimiter=';')"
   ]
  },
  {
   "cell_type": "code",
   "execution_count": 3,
   "metadata": {
    "colab": {
     "base_uri": "https://localhost:8080/",
     "height": 101
    },
    "colab_type": "code",
    "id": "QWOdRJhj8DVQ",
    "outputId": "b91cf3d1-474a-48e1-d5d7-3abe3d6f98c2"
   },
   "outputs": [
    {
     "data": {
      "text/plain": [
       "(59130, 10)"
      ]
     },
     "execution_count": 3,
     "metadata": {},
     "output_type": "execute_result"
    }
   ],
   "source": [
    "df.shape"
   ]
  },
  {
   "cell_type": "code",
   "execution_count": null,
   "metadata": {
    "scrolled": false
   },
   "outputs": [
    {
     "data": {
      "text/html": [
       "<div>\n",
       "<style scoped>\n",
       "    .dataframe tbody tr th:only-of-type {\n",
       "        vertical-align: middle;\n",
       "    }\n",
       "\n",
       "    .dataframe tbody tr th {\n",
       "        vertical-align: top;\n",
       "    }\n",
       "\n",
       "    .dataframe thead th {\n",
       "        text-align: right;\n",
       "    }\n",
       "</style>\n",
       "<table border=\"1\" class=\"dataframe\">\n",
       "  <thead>\n",
       "    <tr style=\"text-align: right;\">\n",
       "      <th></th>\n",
       "      <th>Numéro de dossier</th>\n",
       "      <th>Année budgétaire</th>\n",
       "      <th>Collectivité</th>\n",
       "      <th>Nom Bénéficiaire</th>\n",
       "      <th>Numéro Siret</th>\n",
       "      <th>Objet du dossier</th>\n",
       "      <th>Montant voté</th>\n",
       "      <th>Direction</th>\n",
       "      <th>Nature de la subvention</th>\n",
       "      <th>Secteurs d'activités définies par l'association</th>\n",
       "    </tr>\n",
       "  </thead>\n",
       "  <tbody>\n",
       "    <tr>\n",
       "      <th>0</th>\n",
       "      <td>2017_07217</td>\n",
       "      <td>2017</td>\n",
       "      <td>Ville de Paris</td>\n",
       "      <td>MU</td>\n",
       "      <td>44849529100057</td>\n",
       "      <td>Embrasser</td>\n",
       "      <td>0</td>\n",
       "      <td>DAC</td>\n",
       "      <td>Non précisée</td>\n",
       "      <td>Communication &amp; média;Culture &amp; Arts;Technique...</td>\n",
       "    </tr>\n",
       "    <tr>\n",
       "      <th>1</th>\n",
       "      <td>2017_03526</td>\n",
       "      <td>2017</td>\n",
       "      <td>Ville de Paris</td>\n",
       "      <td>MU</td>\n",
       "      <td>44849529100057</td>\n",
       "      <td>fonctionnement</td>\n",
       "      <td>25000</td>\n",
       "      <td>DAC</td>\n",
       "      <td>Fonctionnement</td>\n",
       "      <td>Communication &amp; média;Culture &amp; Arts;Technique...</td>\n",
       "    </tr>\n",
       "    <tr>\n",
       "      <th>2</th>\n",
       "      <td>2017_01057</td>\n",
       "      <td>2017</td>\n",
       "      <td>Ville de Paris</td>\n",
       "      <td>MULTIKULTIMEDIA</td>\n",
       "      <td>79118462500014</td>\n",
       "      <td>D'ailleurs et d'ici 2017</td>\n",
       "      <td>5000</td>\n",
       "      <td>DDCT</td>\n",
       "      <td>Projet</td>\n",
       "      <td>Communication &amp; média;Mémoire;Social</td>\n",
       "    </tr>\n",
       "    <tr>\n",
       "      <th>3</th>\n",
       "      <td>2017_01513</td>\n",
       "      <td>2017</td>\n",
       "      <td>Ville de Paris</td>\n",
       "      <td>NEZDAMES ET NEZSIEURS</td>\n",
       "      <td>49137876600027</td>\n",
       "      <td>festival Et 20 l'été</td>\n",
       "      <td>0</td>\n",
       "      <td>DAC</td>\n",
       "      <td>Non précisée</td>\n",
       "      <td>Culture &amp; Arts</td>\n",
       "    </tr>\n",
       "    <tr>\n",
       "      <th>4</th>\n",
       "      <td>2017_02858</td>\n",
       "      <td>2017</td>\n",
       "      <td>Ville de Paris</td>\n",
       "      <td>NO MAN'S LAND</td>\n",
       "      <td>53268273900026</td>\n",
       "      <td>Duo pour une amoureuse et son ordinateur</td>\n",
       "      <td>2500</td>\n",
       "      <td>DAC</td>\n",
       "      <td>Projet</td>\n",
       "      <td>Culture &amp; Arts</td>\n",
       "    </tr>\n",
       "  </tbody>\n",
       "</table>\n",
       "</div>"
      ],
      "text/plain": [
       "  Numéro de dossier  Année budgétaire    Collectivité       Nom Bénéficiaire  \\\n",
       "0        2017_07217              2017  Ville de Paris                     MU   \n",
       "1        2017_03526              2017  Ville de Paris                     MU   \n",
       "2        2017_01057              2017  Ville de Paris        MULTIKULTIMEDIA   \n",
       "3        2017_01513              2017  Ville de Paris  NEZDAMES ET NEZSIEURS   \n",
       "4        2017_02858              2017  Ville de Paris          NO MAN'S LAND   \n",
       "\n",
       "     Numéro Siret                          Objet du dossier  Montant voté  \\\n",
       "0  44849529100057                                 Embrasser             0   \n",
       "1  44849529100057                            fonctionnement         25000   \n",
       "2  79118462500014                  D'ailleurs et d'ici 2017          5000   \n",
       "3  49137876600027                      festival Et 20 l'été             0   \n",
       "4  53268273900026  Duo pour une amoureuse et son ordinateur          2500   \n",
       "\n",
       "  Direction Nature de la subvention  \\\n",
       "0       DAC            Non précisée   \n",
       "1       DAC          Fonctionnement   \n",
       "2      DDCT                  Projet   \n",
       "3       DAC            Non précisée   \n",
       "4       DAC                  Projet   \n",
       "\n",
       "     Secteurs d'activités définies par l'association  \n",
       "0  Communication & média;Culture & Arts;Technique...  \n",
       "1  Communication & média;Culture & Arts;Technique...  \n",
       "2               Communication & média;Mémoire;Social  \n",
       "3                                     Culture & Arts  \n",
       "4                                     Culture & Arts  "
      ]
     },
     "execution_count": 4,
     "metadata": {},
     "output_type": "execute_result"
    }
   ],
   "source": [
    "df.head()"
   ]
  },
  {
   "cell_type": "code",
   "execution_count": null,
   "metadata": {},
   "outputs": [
    {
     "data": {
      "text/plain": [
       "Numéro de dossier                                  0.000000\n",
       "Année budgétaire                                   0.000000\n",
       "Collectivité                                       0.000000\n",
       "Nom Bénéficiaire                                   0.000355\n",
       "Numéro Siret                                       0.002706\n",
       "Objet du dossier                                   0.000000\n",
       "Montant voté                                       0.000000\n",
       "Direction                                          0.000000\n",
       "Nature de la subvention                            0.000000\n",
       "Secteurs d'activités définies par l'association    0.000507\n",
       "dtype: float64"
      ]
     },
     "execution_count": 5,
     "metadata": {},
     "output_type": "execute_result"
    }
   ],
   "source": [
    "df.isna().sum()/df.shape[0]"
   ]
  },
  {
   "cell_type": "markdown",
   "metadata": {
    "heading_collapsed": true
   },
   "source": [
    "## Data Vizualisation"
   ]
  },
  {
   "cell_type": "code",
   "execution_count": null,
   "metadata": {
    "hidden": true
   },
   "outputs": [],
   "source": [
    "y = df[\"Montant voté\"]"
   ]
  },
  {
   "cell_type": "code",
   "execution_count": null,
   "metadata": {
    "hidden": true,
    "scrolled": true
   },
   "outputs": [
    {
     "data": {
      "text/html": [
       "<div>\n",
       "<style scoped>\n",
       "    .dataframe tbody tr th:only-of-type {\n",
       "        vertical-align: middle;\n",
       "    }\n",
       "\n",
       "    .dataframe tbody tr th {\n",
       "        vertical-align: top;\n",
       "    }\n",
       "\n",
       "    .dataframe thead th {\n",
       "        text-align: right;\n",
       "    }\n",
       "</style>\n",
       "<table border=\"1\" class=\"dataframe\">\n",
       "  <thead>\n",
       "    <tr style=\"text-align: right;\">\n",
       "      <th></th>\n",
       "      <th>numDoc</th>\n",
       "      <th>anneeBudg</th>\n",
       "      <th>collectivite</th>\n",
       "      <th>beneficiaire</th>\n",
       "      <th>siret</th>\n",
       "      <th>objet du dossier</th>\n",
       "      <th>montant vote</th>\n",
       "      <th>direction</th>\n",
       "      <th>Nature de la subvention</th>\n",
       "      <th>secteur activite</th>\n",
       "    </tr>\n",
       "  </thead>\n",
       "  <tbody>\n",
       "    <tr>\n",
       "      <th>0</th>\n",
       "      <td>2017_07217</td>\n",
       "      <td>2017</td>\n",
       "      <td>Ville de Paris</td>\n",
       "      <td>MU</td>\n",
       "      <td>44849529100057</td>\n",
       "      <td>Embrasser</td>\n",
       "      <td>0</td>\n",
       "      <td>DAC</td>\n",
       "      <td>Non précisée</td>\n",
       "      <td>Communication &amp; média;Culture &amp; Arts;Technique...</td>\n",
       "    </tr>\n",
       "    <tr>\n",
       "      <th>1</th>\n",
       "      <td>2017_03526</td>\n",
       "      <td>2017</td>\n",
       "      <td>Ville de Paris</td>\n",
       "      <td>MU</td>\n",
       "      <td>44849529100057</td>\n",
       "      <td>fonctionnement</td>\n",
       "      <td>25000</td>\n",
       "      <td>DAC</td>\n",
       "      <td>Fonctionnement</td>\n",
       "      <td>Communication &amp; média;Culture &amp; Arts;Technique...</td>\n",
       "    </tr>\n",
       "    <tr>\n",
       "      <th>2</th>\n",
       "      <td>2017_01057</td>\n",
       "      <td>2017</td>\n",
       "      <td>Ville de Paris</td>\n",
       "      <td>MULTIKULTIMEDIA</td>\n",
       "      <td>79118462500014</td>\n",
       "      <td>D'ailleurs et d'ici 2017</td>\n",
       "      <td>5000</td>\n",
       "      <td>DDCT</td>\n",
       "      <td>Projet</td>\n",
       "      <td>Communication &amp; média;Mémoire;Social</td>\n",
       "    </tr>\n",
       "    <tr>\n",
       "      <th>3</th>\n",
       "      <td>2017_01513</td>\n",
       "      <td>2017</td>\n",
       "      <td>Ville de Paris</td>\n",
       "      <td>NEZDAMES ET NEZSIEURS</td>\n",
       "      <td>49137876600027</td>\n",
       "      <td>festival Et 20 l'été</td>\n",
       "      <td>0</td>\n",
       "      <td>DAC</td>\n",
       "      <td>Non précisée</td>\n",
       "      <td>Culture &amp; Arts</td>\n",
       "    </tr>\n",
       "    <tr>\n",
       "      <th>4</th>\n",
       "      <td>2017_02858</td>\n",
       "      <td>2017</td>\n",
       "      <td>Ville de Paris</td>\n",
       "      <td>NO MAN'S LAND</td>\n",
       "      <td>53268273900026</td>\n",
       "      <td>Duo pour une amoureuse et son ordinateur</td>\n",
       "      <td>2500</td>\n",
       "      <td>DAC</td>\n",
       "      <td>Projet</td>\n",
       "      <td>Culture &amp; Arts</td>\n",
       "    </tr>\n",
       "  </tbody>\n",
       "</table>\n",
       "</div>"
      ],
      "text/plain": [
       "       numDoc  anneeBudg    collectivite           beneficiaire  \\\n",
       "0  2017_07217       2017  Ville de Paris                     MU   \n",
       "1  2017_03526       2017  Ville de Paris                     MU   \n",
       "2  2017_01057       2017  Ville de Paris        MULTIKULTIMEDIA   \n",
       "3  2017_01513       2017  Ville de Paris  NEZDAMES ET NEZSIEURS   \n",
       "4  2017_02858       2017  Ville de Paris          NO MAN'S LAND   \n",
       "\n",
       "            siret                          objet du dossier  montant vote  \\\n",
       "0  44849529100057                                 Embrasser             0   \n",
       "1  44849529100057                            fonctionnement         25000   \n",
       "2  79118462500014                  D'ailleurs et d'ici 2017          5000   \n",
       "3  49137876600027                      festival Et 20 l'été             0   \n",
       "4  53268273900026  Duo pour une amoureuse et son ordinateur          2500   \n",
       "\n",
       "  direction Nature de la subvention  \\\n",
       "0       DAC            Non précisée   \n",
       "1       DAC          Fonctionnement   \n",
       "2      DDCT                  Projet   \n",
       "3       DAC            Non précisée   \n",
       "4       DAC                  Projet   \n",
       "\n",
       "                                    secteur activite  \n",
       "0  Communication & média;Culture & Arts;Technique...  \n",
       "1  Communication & média;Culture & Arts;Technique...  \n",
       "2               Communication & média;Mémoire;Social  \n",
       "3                                     Culture & Arts  \n",
       "4                                     Culture & Arts  "
      ]
     },
     "execution_count": 7,
     "metadata": {},
     "output_type": "execute_result"
    }
   ],
   "source": [
    "# Lets redefine column names\n",
    "df = df.rename(columns={'Numéro de dossier': 'numDoc', 'Année budgétaire': 'anneeBudg', 'Collectivité': 'collectivite',\n",
    "                        'Nom Bénéficiaire': 'beneficiaire', 'Numéro Siret': 'siret', 'Objet du dossier': 'objet du dossier',\n",
    "                        'Montant voté': 'montant vote', 'Direction': 'direction', 'Nature de la subvention': 'Nature de la subvention', 'Secteurs d\\'activités définies par l\\'association': 'secteur activite'})\n",
    "df.head()"
   ]
  },
  {
   "cell_type": "code",
   "execution_count": null,
   "metadata": {
    "hidden": true
   },
   "outputs": [
    {
     "data": {
      "text/html": [
       "<div>\n",
       "<style scoped>\n",
       "    .dataframe tbody tr th:only-of-type {\n",
       "        vertical-align: middle;\n",
       "    }\n",
       "\n",
       "    .dataframe tbody tr th {\n",
       "        vertical-align: top;\n",
       "    }\n",
       "\n",
       "    .dataframe thead th {\n",
       "        text-align: right;\n",
       "    }\n",
       "</style>\n",
       "<table border=\"1\" class=\"dataframe\">\n",
       "  <thead>\n",
       "    <tr style=\"text-align: right;\">\n",
       "      <th></th>\n",
       "      <th>anneeBudg</th>\n",
       "      <th>montant vote</th>\n",
       "    </tr>\n",
       "  </thead>\n",
       "  <tbody>\n",
       "    <tr>\n",
       "      <th>count</th>\n",
       "      <td>59130.000000</td>\n",
       "      <td>5.913000e+04</td>\n",
       "    </tr>\n",
       "    <tr>\n",
       "      <th>mean</th>\n",
       "      <td>2016.073567</td>\n",
       "      <td>3.170045e+04</td>\n",
       "    </tr>\n",
       "    <tr>\n",
       "      <th>std</th>\n",
       "      <td>2.003785</td>\n",
       "      <td>2.927526e+05</td>\n",
       "    </tr>\n",
       "    <tr>\n",
       "      <th>min</th>\n",
       "      <td>2013.000000</td>\n",
       "      <td>0.000000e+00</td>\n",
       "    </tr>\n",
       "    <tr>\n",
       "      <th>25%</th>\n",
       "      <td>2014.000000</td>\n",
       "      <td>0.000000e+00</td>\n",
       "    </tr>\n",
       "    <tr>\n",
       "      <th>50%</th>\n",
       "      <td>2016.000000</td>\n",
       "      <td>1.850000e+03</td>\n",
       "    </tr>\n",
       "    <tr>\n",
       "      <th>75%</th>\n",
       "      <td>2018.000000</td>\n",
       "      <td>6.500000e+03</td>\n",
       "    </tr>\n",
       "    <tr>\n",
       "      <th>max</th>\n",
       "      <td>2019.000000</td>\n",
       "      <td>1.744600e+07</td>\n",
       "    </tr>\n",
       "  </tbody>\n",
       "</table>\n",
       "</div>"
      ],
      "text/plain": [
       "          anneeBudg  montant vote\n",
       "count  59130.000000  5.913000e+04\n",
       "mean    2016.073567  3.170045e+04\n",
       "std        2.003785  2.927526e+05\n",
       "min     2013.000000  0.000000e+00\n",
       "25%     2014.000000  0.000000e+00\n",
       "50%     2016.000000  1.850000e+03\n",
       "75%     2018.000000  6.500000e+03\n",
       "max     2019.000000  1.744600e+07"
      ]
     },
     "execution_count": 8,
     "metadata": {},
     "output_type": "execute_result"
    }
   ],
   "source": [
    "df['secteur activite'].fillna('None', inplace=True)\n",
    "df.describe()"
   ]
  },
  {
   "cell_type": "markdown",
   "metadata": {
    "hidden": true
   },
   "source": [
    "- The mean of subventions is arround 30 thousand euros.\n",
    "- 25% of the subvention requests are rejected.\n",
    "- The amount of subvention can vary from 0€ to 17 million euros."
   ]
  },
  {
   "cell_type": "code",
   "execution_count": null,
   "metadata": {
    "hidden": true
   },
   "outputs": [
    {
     "data": {
      "text/plain": [
       "<matplotlib.axes._subplots.AxesSubplot at 0x10f1e1f60>"
      ]
     },
     "execution_count": 9,
     "metadata": {},
     "output_type": "execute_result"
    },
    {
     "data": {
      "image/png": "[encoded data removed]",
      "text/plain": [
       "<Figure size 432x288 with 1 Axes>"
      ]
     },
     "metadata": {
      "needs_background": "light"
     },
     "output_type": "display_data"
    }
   ],
   "source": [
    "y = df[\"montant vote\"]\n",
    "logRev = np.log10(np.clip(y, a_min=1, a_max=None))\n",
    "sns.kdeplot(logRev)"
   ]
  },
  {
   "cell_type": "markdown",
   "metadata": {
    "hidden": true
   },
   "source": [
    "We see that the data is unbalanced, the number of the unsubventioned projects is much higher than the subventioned ones."
   ]
  },
  {
   "cell_type": "code",
   "execution_count": null,
   "metadata": {
    "hidden": true
   },
   "outputs": [
    {
     "data": {
      "image/png": "[encoded data removed]",
      "text/plain": [
       "<Figure size 432x288 with 1 Axes>"
      ]
     },
     "metadata": {
      "needs_background": "light"
     },
     "output_type": "display_data"
    }
   ],
   "source": [
    "plt.title(\"Subventions of every year\")\n",
    "plt.hist(df[\"anneeBudg\"], width=.5)\n",
    "plt.show()"
   ]
  },
  {
   "cell_type": "code",
   "execution_count": null,
   "metadata": {
    "colab": {
     "base_uri": "https://localhost:8080/",
     "height": 34
    },
    "colab_type": "code",
    "hidden": true,
    "id": "29_qnUSx91vP",
    "outputId": "2109d878-fa28-4dbf-df46-c630c7bdeff1"
   },
   "outputs": [
    {
     "data": {
      "image/png": "[encoded data removed]",
      "text/plain": [
       "<Figure size 432x288 with 1 Axes>"
      ]
     },
     "metadata": {
      "needs_background": "light"
     },
     "output_type": "display_data"
    }
   ],
   "source": [
    "plt.title(\"Distribution of the amount of subvention\")\n",
    "plt.plot(df[\"montant vote\"])\n",
    "plt.show()"
   ]
  },
  {
   "cell_type": "code",
   "execution_count": null,
   "metadata": {
    "hidden": true
   },
   "outputs": [],
   "source": [
    "plt.title(\"Collectivité\")\n",
    "plt.hist(df[\"collectivite\"])\n",
    "plt.show()"
   ]
  },
  {
   "cell_type": "markdown",
   "metadata": {
    "hidden": true
   },
   "source": [
    "To get an idea about the the activities of the associations that benefit from subventions, let's extract the activity areas listed in the dataset and visualize the most popular ones."
   ]
  },
  {
   "cell_type": "code",
   "execution_count": null,
   "metadata": {
    "hidden": true
   },
   "outputs": [],
   "source": [
    "# Will contain the activity areas listed in the column \"secteur activite\"\n",
    "secteur_activite = []\n",
    "for i in range(0, len(df), 1):\n",
    "    secteur_activite.append(df['secteur activite'].iloc[i].split(';')[0])"
   ]
  },
  {
   "cell_type": "code",
   "execution_count": null,
   "metadata": {
    "hidden": true
   },
   "outputs": [],
   "source": [
    "dict_secteur_activite = collections.Counter(secteur_activite)\n",
    "\n",
    "secteurs = list(dict_secteur_activite.keys())\n",
    "occurence_secteur = list(dict_secteur_activite.values())\n",
    "\n",
    "percent = 100/sum(occurence_secteur) * np.array(occurence_secteur)\n",
    "plt.figure(figsize=(12, 12))\n",
    "\n",
    "patches, texts = plt.pie(occurence_secteur, labels=None,\n",
    "                         shadow=True, startangle=90)\n",
    "\n",
    "labels = ['{0} - {1:1.2f} %'.format(i, j) for i, j in zip(secteurs, percent)]\n",
    "\n",
    "plt.legend(patches, labels, loc='upper left', bbox_to_anchor=(-0.1, 1.),\n",
    "           fontsize=8)"
   ]
  },
  {
   "cell_type": "markdown",
   "metadata": {
    "hidden": true
   },
   "source": [
    "The most popular projects proposed by the associations are in the fields of \"Culture and arts\" and \"Education and formation\".\n",
    "\n"
   ]
  },
  {
   "cell_type": "markdown",
   "metadata": {
    "hidden": true
   },
   "source": [
    "Let's visualize a barplot of the top first associations that gained subventions the most time."
   ]
  },
  {
   "cell_type": "code",
   "execution_count": null,
   "metadata": {
    "hidden": true
   },
   "outputs": [],
   "source": [
    "plt.figure(figsize=(12, 9))\n",
    "df['beneficiaire'].value_counts()[:20].plot(kind='barh')\n",
    "plt.title('The top first associations that gained subventions the most time ')"
   ]
  },
  {
   "cell_type": "markdown",
   "metadata": {
    "hidden": true
   },
   "source": [
    "The top three associations that gained subventions the most time are ESPACE 19, CRESCENDO and AR-EXPRIM. Those associations are likely to gain again subventions."
   ]
  },
  {
   "cell_type": "markdown",
   "metadata": {
    "hidden": true
   },
   "source": [
    "__Let us now look at the relation of each variable with the target column. We consider categorical variables (with a small number of categories, so that they can be visualized).__"
   ]
  },
  {
   "cell_type": "code",
   "execution_count": null,
   "metadata": {
    "hidden": true
   },
   "outputs": [],
   "source": [
    "df1 = df[[\"direction\", \"montant vote\"]]\n",
    "total_montant_by_direction = df1.groupby(\n",
    "    \"direction\")['montant vote'].apply(sum)\n",
    "sorted_montant_by_direction = dict(sorted(dict(total_montant_by_direction).items(),\n",
    "                                          key=lambda item: item[1], reverse=True))\n",
    "\n",
    "directions = list(sorted_montant_by_direction.keys())\n",
    "montants = list(sorted_montant_by_direction.values())\n",
    "\n",
    "plt.figure(figsize=(16, 9))\n",
    "sns.barplot(x=directions, y=montants, orient='v')\n",
    "plt.xlabel('Direction')\n",
    "plt.ylabel('Total amount')\n",
    "plt.title('Total amount of grants voted by Direction (Main direction of grant)')"
   ]
  },
  {
   "cell_type": "markdown",
   "metadata": {
    "hidden": true
   },
   "source": [
    "As we can see in the next plot, the direction \"DAC\" has voted the bigger total amount of grants (around 600 million euros) followed by \"DFPE\" (around 400 million euros)."
   ]
  },
  {
   "cell_type": "code",
   "execution_count": null,
   "metadata": {
    "hidden": true
   },
   "outputs": [],
   "source": [
    "df1 = df[[\"anneeBudg\", \"montant vote\"]]\n",
    "total_montant_by_annee = df1.groupby(\"anneeBudg\")['montant vote'].apply(sum)\n",
    "sorted_montant_by_annee = dict(sorted(dict(total_montant_by_annee).items(),\n",
    "                                      key=lambda item: item[1], reverse=True))\n",
    "\n",
    "annee = list(sorted_montant_by_annee.keys())\n",
    "montants = list(sorted_montant_by_annee.values())\n",
    "\n",
    "plt.figure(figsize=(12, 9))\n",
    "sns.barplot(x=annee, y=montants, orient='v')\n",
    "plt.xlabel('Fiscal year')\n",
    "plt.ylabel('Total amount')\n",
    "plt.title('Total amount of grants voted by fiscal year')"
   ]
  },
  {
   "cell_type": "markdown",
   "metadata": {
    "hidden": true
   },
   "source": [
    "The total amount of grants voted is increasing every year."
   ]
  },
  {
   "cell_type": "code",
   "execution_count": null,
   "metadata": {
    "hidden": true
   },
   "outputs": [],
   "source": [
    "plt.figure(figsize=(12, 5))\n",
    "sns.barplot(x='Nature de la subvention', y='montant vote', data=df, orient='v')\n",
    "plt.xlabel('Nature de la subvention')\n",
    "plt.ylabel('Total amount voted')\n",
    "plt.title('Total amount of grants voted by subvention nature')"
   ]
  },
  {
   "cell_type": "markdown",
   "metadata": {
    "hidden": true
   },
   "source": [
    "We see that subventions requests with no nature or designation are most likely to be rejected. While subventions request to do investissement are the most accepted ones."
   ]
  },
  {
   "cell_type": "markdown",
   "metadata": {
    "hidden": true
   },
   "source": [
    "let us summary some important patterns that we discovered:\n",
    " - The biggest subventions are given in \"ville de Paris\" and by the directions DAC, DFPE.\n",
    " - The amount of subventions is increasing every year and is accoreded mostly to projects of investissement in the sector of \"Culture and arts\" and \"Education and formation\". \n",
    " - The subvention vary a lot and might be zero, low or very high amount.  "
   ]
  },
  {
   "cell_type": "code",
   "execution_count": null,
   "metadata": {
    "colab": {},
    "colab_type": "code",
    "hidden": true,
    "id": "O0t_xMYD95xY"
   },
   "outputs": [],
   "source": [
    "for c in df.columns:\n",
    "    df[c] = df[c].astype(\"category\")\n",
    "    df[c].fillna(df[c].mode(), inplace=True)\n",
    "    df[c] = df[c].cat.codes.values"
   ]
  },
  {
   "cell_type": "code",
   "execution_count": null,
   "metadata": {
    "hidden": true
   },
   "outputs": [],
   "source": [
    "# data after encoding\n",
    "df.head()"
   ]
  },
  {
   "cell_type": "markdown",
   "metadata": {
    "heading_collapsed": true
   },
   "source": [
    "# General Idea of the model and metric"
   ]
  },
  {
   "cell_type": "markdown",
   "metadata": {
    "heading_collapsed": true,
    "hidden": true
   },
   "source": [
    "## The Metric"
   ]
  },
  {
   "cell_type": "markdown",
   "metadata": {
    "hidden": true
   },
   "source": [
    "### The classification metric"
   ]
  },
  {
   "cell_type": "markdown",
   "metadata": {
    "hidden": true
   },
   "source": [
    "Since we first perform a binary classification, the F1 score is widely used to evaluate the performance of classification problems and it works as follows: \n",
    "(https://en.wikipedia.org/wiki/F1_score) "
   ]
  },
  {
   "cell_type": "markdown",
   "metadata": {
    "hidden": true
   },
   "source": [
    "${\\displaystyle F_{1}=\\left({\\frac {2}{\\mathrm {recall} ^{-1}+\\mathrm {precision} ^{-1}}}\\right)=2\\cdot {\\frac {\\mathrm {precision} \\cdot \\mathrm {recall} }{\\mathrm {precision} +\\mathrm {recall} }}}$"
   ]
  },
  {
   "cell_type": "markdown",
   "metadata": {
    "hidden": true
   },
   "source": [
    "<img src=\"https://upload.wikimedia.org/wikipedia/commons/thumb/2/26/Precisionrecall.svg/525px-Precisionrecall.svg.png\" >"
   ]
  },
  {
   "cell_type": "code",
   "execution_count": null,
   "metadata": {
    "hidden": true
   },
   "outputs": [],
   "source": [
    "def classification_metric(y_pred, y_test):\n",
    "    return f1_score(y_pred, y_test, average=\"weighted\")"
   ]
  },
  {
   "cell_type": "markdown",
   "metadata": {
    "hidden": true
   },
   "source": [
    "### Regression metric "
   ]
  },
  {
   "cell_type": "markdown",
   "metadata": {
    "hidden": true
   },
   "source": [
    "For the Regression metric we will use the MAE which is the average of the absolute difference. The choice of MAE over RMSE is that the MAE is more robust to outliers. In fact , minimizing RMSE over a set of numbers, results in finding its mean while minimizing MAE over the same set results in finding the median that's why MAE is more robust.Moreover, we added a parameter tol which stands for tolerance which will enable us to tolerate predictions which are close to the real value. Since we want to have a normalized metric we can then use the version \"symmetric\" mean absolute percentage error  which is:\n",
    "$$\\frac{1}{n}\\sum_{i=1}^n{\\left|\\frac{f_i-y_i}{(f_i+y_i)/2}\\right|}$$ \n",
    "with $f_i$ are the predicted values.\n"
   ]
  },
  {
   "cell_type": "code",
   "execution_count": null,
   "metadata": {
    "hidden": true
   },
   "outputs": [],
   "source": [
    "def regression_metric(y_pred, y_test, tol=.05):\n",
    "    n = y_pred.shape[0]\n",
    "    diff = np.abs(y_pred - y_test)\n",
    "    mean = np.abs(y_pred + y_test) / 2\n",
    "    ratio = diff / mean\n",
    "    mask = ratio < tol\n",
    "    ratio[mask] = 0\n",
    "\n",
    "    return np.mean(ratio)"
   ]
  },
  {
   "cell_type": "markdown",
   "metadata": {
    "hidden": true
   },
   "source": [
    "## Model Metric"
   ]
  },
  {
   "cell_type": "markdown",
   "metadata": {
    "hidden": true
   },
   "source": [
    "For the model metric since our model is doing both regression and classification ,the model metric will average the scores of regression and classification but with weights that we choose accodingly to what we want to emphasize more the regression or the classification as follows: "
   ]
  },
  {
   "cell_type": "markdown",
   "metadata": {
    "hidden": true
   },
   "source": [
    "$$params = y_{pred\\_reg}, y_{test\\_reg}, y_{pred\\_class}, y_{test\\_class}, \\alpha_{class}, \\alpha_{reg}, tol$$\n",
    "$$metric_{Model}(params)= \\alpha_{class} metric_{classification} (y_{pred\\_class}, y_{test\\_class})  + \\alpha_{reg} metric_{regression}(y_{pred\\_reg}, y_{test\\_reg},tol)  $$"
   ]
  },
  {
   "cell_type": "code",
   "execution_count": null,
   "metadata": {
    "hidden": true
   },
   "outputs": [],
   "source": [
    "def metric_model(y_pred, y_test):\n",
    "    y_pred_class, y_pred_reg = y_pred[:, 0], y_pred[:, 1]\n",
    "    y_test_class, y_test_reg = y_test[:, 0], y_test[:, 1]\n",
    "    alpha_class, alpha_reg = 0.6, 0.4\n",
    "    tol = 0.05\n",
    "    reg_score = regression_metric(y_pred_reg, y_test_reg, tol=tol)\n",
    "    class_score = classification_metric(y_pred_class, y_test_class)\n",
    "    return alpha_class * (1-class_score) + alpha_reg*reg_score"
   ]
  },
  {
   "cell_type": "code",
   "execution_count": null,
   "metadata": {
    "hidden": true
   },
   "outputs": [],
   "source": [
    "# Testing the metric\n",
    "N = 5\n",
    "y_pred, y_test = np.zeros((N, 2)), np.zeros((N, 2))\n",
    "y_pred[:, 0] = np.array([1, 0, 1, 0, 0])\n",
    "y_test[:, 0] = np.array([0, 0, 1, 0, 1])\n",
    "y_pred[:, 1] = np.array([1233, 5000, 7235, 25050, 300000])\n",
    "y_test[:, 1] = np.array([1600, 7000, 5000, 10000, 20000])\n",
    "score = metric_model(y_pred, y_test)\n",
    "print(\"The score of the test example is \" + str(score))"
   ]
  },
  {
   "cell_type": "markdown",
   "metadata": {},
   "source": [
    "# Model"
   ]
  },
  {
   "cell_type": "code",
   "execution_count": null,
   "metadata": {
    "colab": {
     "base_uri": "https://localhost:8080/",
     "height": 34
    },
    "colab_type": "code",
    "id": "B6jaS0_q_Tu2",
    "outputId": "e2f46280-807d-40c5-8302-99e90b61de31"
   },
   "outputs": [],
   "source": [
    "# predict montant voté\n",
    "scores = cross_val_score(clf,X, y, cv=5)\n",
    "scores"
   ]
  },
  {
   "cell_type": "code",
   "execution_count": null,
   "metadata": {},
   "outputs": [],
   "source": [
    "plt.title(\"Cross validation (5)\")\n",
    "plt.bar([str(i*100)[:5] for i in scores] ,scores)\n",
    "plt.bar(\"Mean=\"+ str(np.mean(scores)*100)[:5],np.mean(scores))\n",
    "plt.show()"
   ]
  },
  {
   "cell_type": "code",
   "execution_count": null,
   "metadata": {
    "colab": {
     "base_uri": "https://localhost:8080/",
     "height": 34
    },
    "colab_type": "code",
    "id": "0gah6f0r_s8T",
    "outputId": "29af0392-1256-4197-843e-12ce83506142"
   },
   "outputs": [],
   "source": [
    "np.mean(scores)"
   ]
  },
  {
   "cell_type": "markdown",
   "metadata": {},
   "source": [
    "# Viz model"
   ]
  },
  {
   "cell_type": "code",
   "execution_count": null,
   "metadata": {
    "colab": {},
    "colab_type": "code",
    "id": "xA3qG3APKgDR"
   },
   "outputs": [],
   "source": [
    "X_train, X_test, y_train, y_test = train_test_split(X, y, test_size=0.33)\n",
    "clf.fit(X_train, y_train)\n",
    "y_pred = clf.predict(X_test)"
   ]
  },
  {
   "cell_type": "code",
   "execution_count": null,
   "metadata": {
    "colab": {
     "base_uri": "https://localhost:8080/",
     "height": 283
    },
    "colab_type": "code",
    "id": "flrLxPK2KrhS",
    "outputId": "8029c9bf-4460-499a-efe5-a5c32aebcbec"
   },
   "outputs": [],
   "source": [
    "dist = 100\n",
    "plt.plot(range(dist), y_pred[:dist], label=\"y_predicted\")\n",
    "plt.plot(range(dist), y_test[:dist], label=\"y_test\")\n",
    "plt.legend()\n",
    "plt.show()"
   ]
  },
  {
   "cell_type": "markdown",
   "metadata": {},
   "source": [
    "# Baseline model "
   ]
  },
  {
   "cell_type": "markdown",
   "metadata": {},
   "source": [
    "## Loading train test Data"
   ]
  },
  {
   "cell_type": "code",
   "execution_count": 11,
   "metadata": {},
   "outputs": [],
   "source": [
    "from problem import get_test_data, get_train_data\n",
    "data_train, target_train = get_train_data()\n",
    "data_test, target_test = get_test_data()"
   ]
  },
  {
   "cell_type": "markdown",
   "metadata": {},
   "source": [
    "## Feature Extractor"
   ]
  },
  {
   "cell_type": "code",
   "execution_count": 9,
   "metadata": {},
   "outputs": [],
   "source": [
    "from sklearn.preprocessing import OrdinalEncoder\n",
    "from sklearn.compose import ColumnTransformer\n",
    "from sklearn.pipeline import make_pipeline\n",
    "from sklearn.impute import SimpleImputer\n",
    "from sklearn.preprocessing import FunctionTransformer\n",
    "import numpy as np\n",
    "\n",
    "\n",
    "class FeatureExtractor():\n",
    "    def __init__(self):\n",
    "        pass\n",
    "\n",
    "    def fit(self, X_df, y):\n",
    "\n",
    "        collectivite = 'collectivite'\n",
    "        annee = 'anneeBudg'\n",
    "        obj = 'objet du dossier'\n",
    "        direction = 'direction'\n",
    "        nature = 'Nature de la subvention'\n",
    "        beneficiaire = 'beneficiaire'\n",
    "        secteur = 'secteur activite'\n",
    "        drop_cols = [\"numDoc\", \"siret\"]\n",
    "\n",
    "        def colect(X):\n",
    "            return X.values[:, np.newaxis]\n",
    "        colectivite_transformer = FunctionTransformer(colect, validate=False)\n",
    "\n",
    "        def objetdoss(X):\n",
    "            return X_df[obj].values[:, np.newaxis]\n",
    "        obj_transformer = FunctionTransformer(objetdoss, validate=False)\n",
    "\n",
    "        def direct(X):\n",
    "            return X_df[direction].values[:, np.newaxis]\n",
    "        direction_transformer = FunctionTransformer(direct, validate=False)\n",
    "\n",
    "        def nature_t(X):\n",
    "            return X_df[nature].values[:, np.newaxis]\n",
    "        nature_transformer = FunctionTransformer(nature_t, validate=False)\n",
    "\n",
    "        def beneficiaire_t(X):\n",
    "            return X_df[beneficiaire].values[:, np.newaxis]\n",
    "        beneficiaire_transformer = FunctionTransformer(\n",
    "            beneficiaire_t, validate=False)\n",
    "\n",
    "        def secteur_t(X):\n",
    "            return X_df[secteur].values[:, np.newaxis]\n",
    "        secteur_transformer = FunctionTransformer(secteur_t, validate=False)\n",
    "\n",
    "        def annee_t(X):\n",
    "            return X_df[annee].values[:, np.newaxis]\n",
    "        annee_transformer = FunctionTransformer(annee_t, validate=False)\n",
    "\n",
    "        preprocessor = ColumnTransformer(transformers=[\n",
    "            #('col', make_pipeline(colectivite_transformer, OrdinalEncoder(), SimpleImputer(strategy='median')), collectivite),\n",
    "            ('annee', make_pipeline(annee_transformer,\n",
    "                                    SimpleImputer(strategy='median')), annee),\n",
    "            #('dir', make_pipeline(direction_transformer, OrdinalEncoder(),SimpleImputer(strategy='median')), direction),\n",
    "            #('nature', make_pipeline(nature_transformer, OrdinalEncoder(),SimpleImputer(strategy='median')), nature),\n",
    "            #('beneficiaire', make_pipeline(beneficiaire_transformer, OrdinalEncoder(),SimpleImputer(strategy='median')), beneficiaire),\n",
    "            #('sect', make_pipeline(secteur_transformer, OrdinalEncoder(),SimpleImputer(strategy='median')), secteur),\n",
    "            #('obj', make_pipeline(obj_transformer, OrdinalEncoder() ,SimpleImputer(strategy='median')), obj),\n",
    "            ('drop cols', 'drop', drop_cols),\n",
    "        ])\n",
    "\n",
    "        self.preprocessor = preprocessor\n",
    "        self.preprocessor.fit(X_df, y)\n",
    "\n",
    "        return self\n",
    "\n",
    "    def transform(self, X_df):\n",
    "        X_array = self.preprocessor.transform(X_df)\n",
    "        # print(X_array[0:10])\n",
    "        return X_array"
   ]
  },
  {
   "cell_type": "markdown",
   "metadata": {},
   "source": [
    "## Regressor"
   ]
  },
  {
   "cell_type": "code",
   "execution_count": 29,
   "metadata": {},
   "outputs": [],
   "source": [
    "from sklearn.ensemble import RandomForestRegressor\n",
    "from sklearn.ensemble import RandomForestClassifier\n",
    "from sklearn.base import BaseEstimator\n",
    "from sklearn import preprocessing\n",
    "import numpy as np\n",
    "\n",
    "class Regressor(BaseEstimator):\n",
    "    def __init__(self):\n",
    "        self.clf = RandomForestClassifier()\n",
    "        self.reg = RandomForestRegressor()\n",
    "    \n",
    "    def fit(self, X, y):\n",
    "        self.clf.fit(X, y)\n",
    "        idx = np.where(y > 0)[0]\n",
    "        y_reg = y[idx]\n",
    "        X_reg = X[idx, :]\n",
    "        self.reg.fit(X_reg, y_reg)\n",
    "    \n",
    "    def predict(self, X):\n",
    "        print(X.shape)\n",
    "        pred1 = self.clf.predict(X)\n",
    "        idx = np.where(pred1 == 0)[0]\n",
    "        X_reg = X[idx, :]\n",
    "        pred2 = self.reg.predict(X_reg)\n",
    "        return np.concatenate((pred1, pred2), axis=None)\n"
   ]
  },
  {
   "cell_type": "markdown",
   "metadata": {},
   "source": [
    "## Model"
   ]
  },
  {
   "cell_type": "code",
   "execution_count": 30,
   "metadata": {},
   "outputs": [
    {
     "name": "stderr",
     "output_type": "stream",
     "text": [
      "/usr/local/lib/python3.7/site-packages/sklearn/ensemble/forest.py:245: FutureWarning: The default value of n_estimators will change from 10 in version 0.20 to 100 in 0.22.\n",
      "  \"10 in version 0.20 to 100 in 0.22.\", FutureWarning)\n",
      "/usr/local/lib/python3.7/site-packages/sklearn/ensemble/forest.py:245: FutureWarning: The default value of n_estimators will change from 10 in version 0.20 to 100 in 0.22.\n",
      "  \"10 in version 0.20 to 100 in 0.22.\", FutureWarning)\n"
     ]
    },
    {
     "name": "stdout",
     "output_type": "stream",
     "text": [
      "(47304, 1)\n"
     ]
    }
   ],
   "source": [
    "model = make_pipeline(FeatureExtractor(), Regressor())\n",
    "\n",
    "model.fit(data_train, target_train)\n",
    "\n",
    "y_pred = model.predict(data_test)\n"
   ]
  },
  {
   "cell_type": "markdown",
   "metadata": {},
   "source": [
    "## Evaluation"
   ]
  },
  {
   "cell_type": "code",
   "execution_count": 35,
   "metadata": {},
   "outputs": [],
   "source": [
    "from problem import model_metric"
   ]
  },
  {
   "cell_type": "code",
   "execution_count": 40,
   "metadata": {},
   "outputs": [],
   "source": [
    "metric = model_metric()"
   ]
  },
  {
   "cell_type": "code",
   "execution_count": 41,
   "metadata": {},
   "outputs": [
    {
     "ename": "TypeError",
     "evalue": "__call__() missing 2 required positional arguments: 'y_pred_class' and 'y_test_class'",
     "output_type": "error",
     "traceback": [
      "\u001b[0;31m---------------------------------------------------------------------------\u001b[0m",
      "\u001b[0;31mTypeError\u001b[0m                                 Traceback (most recent call last)",
      "\u001b[0;32m<ipython-input-41-f1bff92907fd>\u001b[0m in \u001b[0;36m<module>\u001b[0;34m\u001b[0m\n\u001b[0;32m----> 1\u001b[0;31m \u001b[0mmetric\u001b[0m\u001b[0;34m(\u001b[0m\u001b[0my_pred\u001b[0m\u001b[0;34m,\u001b[0m \u001b[0mtarget_test\u001b[0m\u001b[0;34m)\u001b[0m\u001b[0;34m\u001b[0m\u001b[0;34m\u001b[0m\u001b[0m\n\u001b[0m",
      "\u001b[0;31mTypeError\u001b[0m: __call__() missing 2 required positional arguments: 'y_pred_class' and 'y_test_class'"
     ]
    }
   ],
   "source": [
    "metric(y_pred, target_test)"
   ]
  }
 ],
 "metadata": {
  "colab": {
   "name": "Data Camp project.ipynb",
   "provenance": []
  },
  "gist": {
   "data": {
    "description": "Data_Camp_project.ipynb",
    "public": false
   },
   "id": ""
  },
  "kernelspec": {
   "display_name": "Python 3",
   "language": "python",
   "name": "python3"
  },
  "language_info": {
   "codemirror_mode": {
    "name": "ipython",
    "version": 3
   },
   "file_extension": ".py",
   "mimetype": "text/x-python",
   "name": "python",
   "nbconvert_exporter": "python",
   "pygments_lexer": "ipython3",
   "version": "3.7.2"
  },
  "varInspector": {
   "cols": {
    "lenName": 16,
    "lenType": 16,
    "lenVar": 40
   },
   "kernels_config": {
    "python": {
     "delete_cmd_postfix": "",
     "delete_cmd_prefix": "del ",
     "library": "var_list.py",
     "varRefreshCmd": "print(var_dic_list())"
    },
    "r": {
     "delete_cmd_postfix": ") ",
     "delete_cmd_prefix": "rm(",
     "library": "var_list.r",
     "varRefreshCmd": "cat(var_dic_list()) "
    }
   },
   "types_to_exclude": [
    "module",
    "function",
    "builtin_function_or_method",
    "instance",
    "_Feature"
   ],
   "window_display": false
  }
 },
 "nbformat": 4,
 "nbformat_minor": 1
}
