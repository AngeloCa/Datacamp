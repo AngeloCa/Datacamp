{
 "cells": [
  {
   "cell_type": "markdown",
   "metadata": {},
   "source": [
    "<div style=\"text-align: left;\">\n",
    "<table style=\"width:100%; background-color:transparent;\">\n",
    "  <tr style=\"background-color:transparent;\">\n",
    "    <td style=\"background-color:transparent;\"><a href=\"http://www.datascience-paris-saclay.fr\">\n",
    "<img border=\"0\" src=\"http://project.inria.fr/saclaycds/files/2017/02/logoUPSayPlusCDS_990.png\" width=\"90%\"> </td>\n",
    "     \n",
    "  </tr>\n",
    "</table> \n",
    "</div>\n",
    "\n",
    "<center><h1>Parisian associations grants prediction challenge</h1></center>\n",
    "<br/>\n",
    "<center><b>Angelo CANESSO, Enrique GOMEZ, Saif Eddine GHRIBI,<br /> \n",
    "Ramzi HAMDI, Ahlem JOUIDI, Leandro NASCIMIENTO</b></center>"
   ]
  },
  {
   "cell_type": "markdown",
   "metadata": {},
   "source": [
    "## Table of Contents\n",
    "\n",
    "1. [Introduction](#Introduction)\n",
    "2. [Goal](#Goal)\n",
    "3. [Elements](#Elements)\n",
    "  1. [Predictor](#Predictor)\n",
    "  2. [Score Metric](#Score-Metric)\n",
    "    1. [Classification Metric](#Classification-Metric)\n",
    "    2. [Regression Metric](#Regression-Metric)\n",
    "  3. [Data](#Data)\n",
    "4. [Data Analysis](#Data-Analysis)\n",
    "  1. [Load Libraries](#Load-Libraries)\n",
    "  2. [Load Data](#Load-Data)\n",
    "  3. [Data Exploration](#Data-Exploration)\n",
    "  4. [Data Visualization](#Data-Visualization)\n",
    "5. [Pipeline](#Pipeline)\n",
    "  1. [Feature Extractor](#Feature-Extractor)\n",
    "  2. [Regressor](#Regressor)\n",
    "  3. [Training](#Training)\n",
    "  4. [Score Comparison](#Score-Comparison)\n",
    "6. [Using RAMP](#Using-RAMP)\n",
    "  1. [Submission Structure](#Submission-Structure)\n",
    "  2. [Local Testing](#Local-Testing)\n",
    "  3. [Submitting to RAMP studio](#Submitting-to-[ramp.studio](http://ramp.studio))\n",
    "7. [More information](#More-information)"
   ]
  },
  {
   "cell_type": "markdown",
   "metadata": {},
   "source": [
    "# Introduction\n",
    "\n",
    "Associations are an important part of life in France. Nearly a half of the total population participates in at least one of these entities. Their attractivity is linked to their versatility and the ease of forming one. In fact, there are associations of all kinds. From culture to sports or education, we can find associations in almost every aspect of life. There is no excuse not to be part of one. Moreover, the steps to form one are straight forward. Although it is necessary to fill up some forms, it usually does not take much time to complete all the procedures.\n",
    "\n",
    "Appart from having the pleasure to work alongside people with common interests, being able to manage money without being taxed (in most cases) is arguably the best advantage of associations. In fact, they can generate wealth by doing profitable activities or receive funds from public or private sources. This money has to benefit exclusively the association as a whole and not some particular members. In that fashion, a sports club can buy the equipment for its members or a humanitarian association can offer free food for homeless people.\n",
    "\n",
    "Nevertheless, most associations cannot make enough money on their own and have to rely on public institutions for funding in the form of grants, equipment, accomodations, etc. Unfortunately, the associative jungle is large (cumulative budget of associations goes up to 70 billion of euros) and grants cannot be given to all. So, each public entity makes a selection of applications in order to give grants in a fair manner. For example, Paris city calls for projects and gives grants according to the budget specified in the application form. This comes to determine whether the association's project is worth the money it is asking.\n",
    "\n",
    "Therefore, we found interesting to design a model to estimate how worth a project is based on a given application form and give the subvention if the amount of asked money is reasonable. The model could be useful for public institutions to ease the decision-making process. This problem could be extrapolated to add constraints such as the maximum budget approved by the intitutions for grants. Additionally, it could help associations to know beforehand if they will probably receive the grant in order to calibrate their expectations."
   ]
  },
  {
   "cell_type": "markdown",
   "metadata": {},
   "source": [
    "# Goal\n",
    "\n",
    "The aim of this challenge is to use the dataset `subventions-accordees-et-refusees.csv` to predict if each project  deserves a grant and, if so, how much money it should receive. This will be done in two separate tasks.  \n",
    "The first thing to determine is if a grant will  be given to an association based on the information filled up on the application form. This information could be useful for either the association and the public institution. The former would know in advance its chances to get the grant. The latter will have a decision making tool available.\n",
    "\n",
    "Then, we want to predict how much money the association should receive. The public entities could use this information for planification and, eventually, for fraud detection if the model is very accurate."
   ]
  },
  {
   "cell_type": "markdown",
   "metadata": {},
   "source": [
    "# Elements\n",
    "\n",
    "## Predictor\n",
    "\n",
    "Two predictors will be used to accomplish those tasks: a **classifier** and a **regressor**. The former will determine if a grant is given of not. So, this task is a binary classification. Then, if the granted was given by the first predictor, the second objective is determine how much the project is worth. This second task will be accomplished by a regressor."
   ]
  },
  {
   "cell_type": "markdown",
   "metadata": {},
   "source": [
    "## Data\n",
    "\n",
    "The data used in this challenge was extracted from the website [opendata.paris.fr](https://opendata.paris.fr/). This site contains all the datasets published by the City of Paris and its associates following the initiative **Open Data**, which promotes the democratization of information and transparency of institutions.\n",
    "\n",
    "Our dataset contains the list of grants given (or not) to associations by the City of Paris from 2013 to 2019 (and given by the Île-de-France Department from 2013 to 2018, when it merged with City of Paris). It contains only grants given to associations (registered under the *\"loi 1901\"*) and not those given to non associative organisms (like SCOP, SCIC, public entities, etc.). The no financial contributions (infrastructure, equipment, materials, staff) are not included either \n",
    "\n",
    "Every grant request (so every entry in the dataset) contains this information:\n",
    "\n",
    "- `Financial Year` (Année budgétaire)\n",
    "- `Collectivity` (Collectivité) : City or department (from 2013 to 2018).\n",
    "- `Association's Name` (Nom Bénéficiaire)\n",
    "- `Siret number` (Numéro Siret)\n",
    "- `Object` (Objet du dossier) : Title of the project(s) which were presented to apply for a grant\n",
    "- `Voted amount` (Montant voté) : Amount of money given by the Paris City Council after the evaluation of the application. If the value is missing, the application was rejected and the grant not given\n",
    "- `Direction` (Direction) : Direction of the city treating the grant application (many direction could co-finance a project)\n",
    "- `Grant Type` (Nature de la subvention) :\n",
    "  - `Investment` (Investissement) : finance the goods which represent the patrimony of the association\n",
    "  - `Exploitation` (Fonctionnement) : \n",
    "      - For the  association's annual expenses.\n",
    "      - For the  association's projects.\n",
    "- `Association's Fields` (Secteur d’activités)"
   ]
  },
  {
   "cell_type": "markdown",
   "metadata": {},
   "source": [
    "# Data Analysis"
   ]
  },
  {
   "cell_type": "markdown",
   "metadata": {},
   "source": [
    "# Data exploration"
   ]
  },
  {
   "cell_type": "code",
   "execution_count": 3,
   "metadata": {
    "colab": {},
    "colab_type": "code",
    "id": "7mSo3xdh72Gd"
   },
   "outputs": [],
   "source": [
    "import pandas as pd \n",
    "import numpy as np \n",
    "import matplotlib.pyplot as plt \n",
    "import collections\n",
    "import seaborn as sns\n",
    "from sklearn.metrics import accuracy_score, confusion_matrix,f1_score\n",
    "from sklearn.ensemble import RandomForestClassifier\n",
    "from sklearn.model_selection import train_test_split"
   ]
  },
  {
   "cell_type": "markdown",
   "metadata": {},
   "source": [
    "# Load data "
   ]
  },
  {
   "cell_type": "code",
   "execution_count": 4,
   "metadata": {
    "colab": {},
    "colab_type": "code",
    "id": "B8wWjUNm8A5a"
   },
   "outputs": [],
   "source": [
    "df = pd.read_csv(\"subventions-accordees-et-refusees.csv\",delimiter = ';')"
   ]
  },
  {
   "cell_type": "code",
   "execution_count": 5,
   "metadata": {
    "colab": {
     "base_uri": "https://localhost:8080/",
     "height": 101
    },
    "colab_type": "code",
    "id": "QWOdRJhj8DVQ",
    "outputId": "b91cf3d1-474a-48e1-d5d7-3abe3d6f98c2"
   },
   "outputs": [
    {
     "data": {
      "text/plain": [
       "(59130, 10)"
      ]
     },
     "execution_count": 5,
     "metadata": {},
     "output_type": "execute_result"
    }
   ],
   "source": [
    "df.shape"
   ]
  },
  {
   "cell_type": "code",
   "execution_count": 6,
   "metadata": {
    "scrolled": false
   },
   "outputs": [
    {
     "data": {
      "text/html": [
       "<div>\n",
       "<style scoped>\n",
       "    .dataframe tbody tr th:only-of-type {\n",
       "        vertical-align: middle;\n",
       "    }\n",
       "\n",
       "    .dataframe tbody tr th {\n",
       "        vertical-align: top;\n",
       "    }\n",
       "\n",
       "    .dataframe thead th {\n",
       "        text-align: right;\n",
       "    }\n",
       "</style>\n",
       "<table border=\"1\" class=\"dataframe\">\n",
       "  <thead>\n",
       "    <tr style=\"text-align: right;\">\n",
       "      <th></th>\n",
       "      <th>Numéro de dossier</th>\n",
       "      <th>Année budgétaire</th>\n",
       "      <th>Collectivité</th>\n",
       "      <th>Nom Bénéficiaire</th>\n",
       "      <th>Numéro Siret</th>\n",
       "      <th>Objet du dossier</th>\n",
       "      <th>Montant voté</th>\n",
       "      <th>Direction</th>\n",
       "      <th>Nature de la subvention</th>\n",
       "      <th>Secteurs d'activités définies par l'association</th>\n",
       "    </tr>\n",
       "  </thead>\n",
       "  <tbody>\n",
       "    <tr>\n",
       "      <th>0</th>\n",
       "      <td>2017_07217</td>\n",
       "      <td>2017</td>\n",
       "      <td>Ville de Paris</td>\n",
       "      <td>MU</td>\n",
       "      <td>44849529100057</td>\n",
       "      <td>Embrasser</td>\n",
       "      <td>0</td>\n",
       "      <td>DAC</td>\n",
       "      <td>Non précisée</td>\n",
       "      <td>Communication &amp; média;Culture &amp; Arts;Technique...</td>\n",
       "    </tr>\n",
       "    <tr>\n",
       "      <th>1</th>\n",
       "      <td>2017_03526</td>\n",
       "      <td>2017</td>\n",
       "      <td>Ville de Paris</td>\n",
       "      <td>MU</td>\n",
       "      <td>44849529100057</td>\n",
       "      <td>fonctionnement</td>\n",
       "      <td>25000</td>\n",
       "      <td>DAC</td>\n",
       "      <td>Fonctionnement</td>\n",
       "      <td>Communication &amp; média;Culture &amp; Arts;Technique...</td>\n",
       "    </tr>\n",
       "    <tr>\n",
       "      <th>2</th>\n",
       "      <td>2017_01057</td>\n",
       "      <td>2017</td>\n",
       "      <td>Ville de Paris</td>\n",
       "      <td>MULTIKULTIMEDIA</td>\n",
       "      <td>79118462500014</td>\n",
       "      <td>D'ailleurs et d'ici 2017</td>\n",
       "      <td>5000</td>\n",
       "      <td>DDCT</td>\n",
       "      <td>Projet</td>\n",
       "      <td>Communication &amp; média;Mémoire;Social</td>\n",
       "    </tr>\n",
       "    <tr>\n",
       "      <th>3</th>\n",
       "      <td>2017_01513</td>\n",
       "      <td>2017</td>\n",
       "      <td>Ville de Paris</td>\n",
       "      <td>NEZDAMES ET NEZSIEURS</td>\n",
       "      <td>49137876600027</td>\n",
       "      <td>festival Et 20 l'été</td>\n",
       "      <td>0</td>\n",
       "      <td>DAC</td>\n",
       "      <td>Non précisée</td>\n",
       "      <td>Culture &amp; Arts</td>\n",
       "    </tr>\n",
       "    <tr>\n",
       "      <th>4</th>\n",
       "      <td>2017_02858</td>\n",
       "      <td>2017</td>\n",
       "      <td>Ville de Paris</td>\n",
       "      <td>NO MAN'S LAND</td>\n",
       "      <td>53268273900026</td>\n",
       "      <td>Duo pour une amoureuse et son ordinateur</td>\n",
       "      <td>2500</td>\n",
       "      <td>DAC</td>\n",
       "      <td>Projet</td>\n",
       "      <td>Culture &amp; Arts</td>\n",
       "    </tr>\n",
       "  </tbody>\n",
       "</table>\n",
       "</div>"
      ],
      "text/plain": [
       "  Numéro de dossier  Année budgétaire    Collectivité       Nom Bénéficiaire  \\\n",
       "0        2017_07217              2017  Ville de Paris                     MU   \n",
       "1        2017_03526              2017  Ville de Paris                     MU   \n",
       "2        2017_01057              2017  Ville de Paris        MULTIKULTIMEDIA   \n",
       "3        2017_01513              2017  Ville de Paris  NEZDAMES ET NEZSIEURS   \n",
       "4        2017_02858              2017  Ville de Paris          NO MAN'S LAND   \n",
       "\n",
       "     Numéro Siret                          Objet du dossier  Montant voté  \\\n",
       "0  44849529100057                                 Embrasser             0   \n",
       "1  44849529100057                            fonctionnement         25000   \n",
       "2  79118462500014                  D'ailleurs et d'ici 2017          5000   \n",
       "3  49137876600027                      festival Et 20 l'été             0   \n",
       "4  53268273900026  Duo pour une amoureuse et son ordinateur          2500   \n",
       "\n",
       "  Direction Nature de la subvention  \\\n",
       "0       DAC            Non précisée   \n",
       "1       DAC          Fonctionnement   \n",
       "2      DDCT                  Projet   \n",
       "3       DAC            Non précisée   \n",
       "4       DAC                  Projet   \n",
       "\n",
       "     Secteurs d'activités définies par l'association  \n",
       "0  Communication & média;Culture & Arts;Technique...  \n",
       "1  Communication & média;Culture & Arts;Technique...  \n",
       "2               Communication & média;Mémoire;Social  \n",
       "3                                     Culture & Arts  \n",
       "4                                     Culture & Arts  "
      ]
     },
     "execution_count": 6,
     "metadata": {},
     "output_type": "execute_result"
    }
   ],
   "source": [
    "df.head()"
   ]
  },
  {
   "cell_type": "code",
   "execution_count": null,
   "metadata": {},
   "outputs": [
    {
     "data": {
      "text/plain": [
       "Numéro de dossier                                  0.000000\n",
       "Année budgétaire                                   0.000000\n",
       "Collectivité                                       0.000000\n",
       "Nom Bénéficiaire                                   0.000355\n",
       "Numéro Siret                                       0.002706\n",
       "Objet du dossier                                   0.000000\n",
       "Montant voté                                       0.000000\n",
       "Direction                                          0.000000\n",
       "Nature de la subvention                            0.000000\n",
       "Secteurs d'activités définies par l'association    0.000507\n",
       "dtype: float64"
      ]
     },
     "execution_count": 7,
     "metadata": {},
     "output_type": "execute_result"
    }
   ],
   "source": [
    "df.isna().sum()/df.shape[0]"
   ]
  },
  {
   "cell_type": "markdown",
   "metadata": {},
   "source": [
    "# Data Vizualisation"
   ]
  },
  {
   "cell_type": "code",
   "execution_count": null,
   "metadata": {
    "colab": {
     "base_uri": "https://localhost:8080/",
     "height": 34
    },
    "colab_type": "code",
    "id": "fu6xXBGS8Eay",
    "outputId": "4951d070-ebee-44dd-b37a-fd489737f351"
   },
   "outputs": [],
   "source": [
    "#remove the montant voté =0 \n",
    "#df = df[df[\"Montant voté\"]!=0]"
   ]
  },
  {
   "cell_type": "code",
   "execution_count": null,
   "metadata": {},
   "outputs": [],
   "source": [
    "y = df[\"Montant voté\"]"
   ]
  },
  {
   "cell_type": "code",
   "execution_count": null,
   "metadata": {
    "scrolled": true
   },
   "outputs": [
    {
     "data": {
      "text/html": [
       "<div>\n",
       "<style scoped>\n",
       "    .dataframe tbody tr th:only-of-type {\n",
       "        vertical-align: middle;\n",
       "    }\n",
       "\n",
       "    .dataframe tbody tr th {\n",
       "        vertical-align: top;\n",
       "    }\n",
       "\n",
       "    .dataframe thead th {\n",
       "        text-align: right;\n",
       "    }\n",
       "</style>\n",
       "<table border=\"1\" class=\"dataframe\">\n",
       "  <thead>\n",
       "    <tr style=\"text-align: right;\">\n",
       "      <th></th>\n",
       "      <th>numDoc</th>\n",
       "      <th>anneeBudg</th>\n",
       "      <th>collectivite</th>\n",
       "      <th>beneficiaire</th>\n",
       "      <th>siret</th>\n",
       "      <th>objet du dossier</th>\n",
       "      <th>montant vote</th>\n",
       "      <th>direction</th>\n",
       "      <th>Nature de la subvention</th>\n",
       "      <th>secteur activite</th>\n",
       "    </tr>\n",
       "  </thead>\n",
       "  <tbody>\n",
       "    <tr>\n",
       "      <th>0</th>\n",
       "      <td>2017_07217</td>\n",
       "      <td>2017</td>\n",
       "      <td>Ville de Paris</td>\n",
       "      <td>MU</td>\n",
       "      <td>44849529100057</td>\n",
       "      <td>Embrasser</td>\n",
       "      <td>0</td>\n",
       "      <td>DAC</td>\n",
       "      <td>Non précisée</td>\n",
       "      <td>Communication &amp; média;Culture &amp; Arts;Technique...</td>\n",
       "    </tr>\n",
       "    <tr>\n",
       "      <th>1</th>\n",
       "      <td>2017_03526</td>\n",
       "      <td>2017</td>\n",
       "      <td>Ville de Paris</td>\n",
       "      <td>MU</td>\n",
       "      <td>44849529100057</td>\n",
       "      <td>fonctionnement</td>\n",
       "      <td>25000</td>\n",
       "      <td>DAC</td>\n",
       "      <td>Fonctionnement</td>\n",
       "      <td>Communication &amp; média;Culture &amp; Arts;Technique...</td>\n",
       "    </tr>\n",
       "    <tr>\n",
       "      <th>2</th>\n",
       "      <td>2017_01057</td>\n",
       "      <td>2017</td>\n",
       "      <td>Ville de Paris</td>\n",
       "      <td>MULTIKULTIMEDIA</td>\n",
       "      <td>79118462500014</td>\n",
       "      <td>D'ailleurs et d'ici 2017</td>\n",
       "      <td>5000</td>\n",
       "      <td>DDCT</td>\n",
       "      <td>Projet</td>\n",
       "      <td>Communication &amp; média;Mémoire;Social</td>\n",
       "    </tr>\n",
       "    <tr>\n",
       "      <th>3</th>\n",
       "      <td>2017_01513</td>\n",
       "      <td>2017</td>\n",
       "      <td>Ville de Paris</td>\n",
       "      <td>NEZDAMES ET NEZSIEURS</td>\n",
       "      <td>49137876600027</td>\n",
       "      <td>festival Et 20 l'été</td>\n",
       "      <td>0</td>\n",
       "      <td>DAC</td>\n",
       "      <td>Non précisée</td>\n",
       "      <td>Culture &amp; Arts</td>\n",
       "    </tr>\n",
       "    <tr>\n",
       "      <th>4</th>\n",
       "      <td>2017_02858</td>\n",
       "      <td>2017</td>\n",
       "      <td>Ville de Paris</td>\n",
       "      <td>NO MAN'S LAND</td>\n",
       "      <td>53268273900026</td>\n",
       "      <td>Duo pour une amoureuse et son ordinateur</td>\n",
       "      <td>2500</td>\n",
       "      <td>DAC</td>\n",
       "      <td>Projet</td>\n",
       "      <td>Culture &amp; Arts</td>\n",
       "    </tr>\n",
       "  </tbody>\n",
       "</table>\n",
       "</div>"
      ],
      "text/plain": [
       "       numDoc  anneeBudg    collectivite           beneficiaire  \\\n",
       "0  2017_07217       2017  Ville de Paris                     MU   \n",
       "1  2017_03526       2017  Ville de Paris                     MU   \n",
       "2  2017_01057       2017  Ville de Paris        MULTIKULTIMEDIA   \n",
       "3  2017_01513       2017  Ville de Paris  NEZDAMES ET NEZSIEURS   \n",
       "4  2017_02858       2017  Ville de Paris          NO MAN'S LAND   \n",
       "\n",
       "            siret                          objet du dossier  montant vote  \\\n",
       "0  44849529100057                                 Embrasser             0   \n",
       "1  44849529100057                            fonctionnement         25000   \n",
       "2  79118462500014                  D'ailleurs et d'ici 2017          5000   \n",
       "3  49137876600027                      festival Et 20 l'été             0   \n",
       "4  53268273900026  Duo pour une amoureuse et son ordinateur          2500   \n",
       "\n",
       "  direction Nature de la subvention  \\\n",
       "0       DAC            Non précisée   \n",
       "1       DAC          Fonctionnement   \n",
       "2      DDCT                  Projet   \n",
       "3       DAC            Non précisée   \n",
       "4       DAC                  Projet   \n",
       "\n",
       "                                    secteur activite  \n",
       "0  Communication & média;Culture & Arts;Technique...  \n",
       "1  Communication & média;Culture & Arts;Technique...  \n",
       "2               Communication & média;Mémoire;Social  \n",
       "3                                     Culture & Arts  \n",
       "4                                     Culture & Arts  "
      ]
     },
     "execution_count": 10,
     "metadata": {},
     "output_type": "execute_result"
    }
   ],
   "source": [
    "#Lets redefine column names\n",
    "df = df.rename(columns={'Numéro de dossier': 'numDoc', 'Année budgétaire': 'anneeBudg', 'Collectivité':'collectivite', \n",
    "                  'Nom Bénéficiaire': 'beneficiaire', 'Numéro Siret': 'siret','Objet du dossier':'objet du dossier',\n",
    "                  'Montant voté':'montant vote', 'Direction':'direction', 'Nature de la subvention': 'Nature de la subvention'\n",
    "                  , 'Secteurs d\\'activités définies par l\\'association': 'secteur activite'})\n",
    "df.head()"
   ]
  },
  {
   "cell_type": "code",
   "execution_count": null,
   "metadata": {},
   "outputs": [
    {
     "data": {
      "text/html": [
       "<div>\n",
       "<style scoped>\n",
       "    .dataframe tbody tr th:only-of-type {\n",
       "        vertical-align: middle;\n",
       "    }\n",
       "\n",
       "    .dataframe tbody tr th {\n",
       "        vertical-align: top;\n",
       "    }\n",
       "\n",
       "    .dataframe thead th {\n",
       "        text-align: right;\n",
       "    }\n",
       "</style>\n",
       "<table border=\"1\" class=\"dataframe\">\n",
       "  <thead>\n",
       "    <tr style=\"text-align: right;\">\n",
       "      <th></th>\n",
       "      <th>anneeBudg</th>\n",
       "      <th>montant vote</th>\n",
       "    </tr>\n",
       "  </thead>\n",
       "  <tbody>\n",
       "    <tr>\n",
       "      <th>count</th>\n",
       "      <td>59130.000000</td>\n",
       "      <td>5.913000e+04</td>\n",
       "    </tr>\n",
       "    <tr>\n",
       "      <th>mean</th>\n",
       "      <td>2016.073567</td>\n",
       "      <td>3.170045e+04</td>\n",
       "    </tr>\n",
       "    <tr>\n",
       "      <th>std</th>\n",
       "      <td>2.003785</td>\n",
       "      <td>2.927526e+05</td>\n",
       "    </tr>\n",
       "    <tr>\n",
       "      <th>min</th>\n",
       "      <td>2013.000000</td>\n",
       "      <td>0.000000e+00</td>\n",
       "    </tr>\n",
       "    <tr>\n",
       "      <th>25%</th>\n",
       "      <td>2014.000000</td>\n",
       "      <td>0.000000e+00</td>\n",
       "    </tr>\n",
       "    <tr>\n",
       "      <th>50%</th>\n",
       "      <td>2016.000000</td>\n",
       "      <td>1.850000e+03</td>\n",
       "    </tr>\n",
       "    <tr>\n",
       "      <th>75%</th>\n",
       "      <td>2018.000000</td>\n",
       "      <td>6.500000e+03</td>\n",
       "    </tr>\n",
       "    <tr>\n",
       "      <th>max</th>\n",
       "      <td>2019.000000</td>\n",
       "      <td>1.744600e+07</td>\n",
       "    </tr>\n",
       "  </tbody>\n",
       "</table>\n",
       "</div>"
      ],
      "text/plain": [
       "          anneeBudg  montant vote\n",
       "count  59130.000000  5.913000e+04\n",
       "mean    2016.073567  3.170045e+04\n",
       "std        2.003785  2.927526e+05\n",
       "min     2013.000000  0.000000e+00\n",
       "25%     2014.000000  0.000000e+00\n",
       "50%     2016.000000  1.850000e+03\n",
       "75%     2018.000000  6.500000e+03\n",
       "max     2019.000000  1.744600e+07"
      ]
     },
     "execution_count": 11,
     "metadata": {},
     "output_type": "execute_result"
    }
   ],
   "source": [
    "df['secteur activite'].fillna('None', inplace=True)\n",
    "df.describe()"
   ]
  },
  {
   "cell_type": "markdown",
   "metadata": {},
   "source": [
    "- The mean of subventions is arround 30 thousand euros.\n",
    "- 25% of the subvention requests are rejected.\n",
    "- The amount of subvention can vary from 0€ to 17 million euros."
   ]
  },
  {
   "cell_type": "code",
   "execution_count": null,
   "metadata": {},
   "outputs": [
    {
     "name": "stderr",
     "output_type": "stream",
     "text": [
      "/media/dattebayo/5076F34376F3287C/linux/anaconda/lib/python3.7/site-packages/scipy/stats/stats.py:1713: FutureWarning: Using a non-tuple sequence for multidimensional indexing is deprecated; use `arr[tuple(seq)]` instead of `arr[seq]`. In the future this will be interpreted as an array index, `arr[np.array(seq)]`, which will result either in an error or a different result.\n",
      "  return np.add.reduce(sorted[indexer] * weights, axis=axis) / sumval\n"
     ]
    },
    {
     "data": {
      "text/plain": [
       "<matplotlib.axes._subplots.AxesSubplot at 0x7fbcbd8c0a20>"
      ]
     },
     "execution_count": 12,
     "metadata": {},
     "output_type": "execute_result"
    },
    {
     "data": {
      "image/png": "[encoded data removed]",
      "text/plain": [
       "<Figure size 432x288 with 1 Axes>"
      ]
     },
     "metadata": {
      "needs_background": "light"
     },
     "output_type": "display_data"
    }
   ],
   "source": [
    "y = df[\"montant vote\"]\n",
    "logRev = np.log10(np.clip(y, a_min=1, a_max=None))\n",
    "sns.kdeplot(logRev)"
   ]
  },
  {
   "cell_type": "markdown",
   "metadata": {},
   "source": [
    "We see that the data is unbalanced, the number of the unsubventioned projects is much higher than the subventioned ones."
   ]
  },
  {
   "cell_type": "code",
   "execution_count": null,
   "metadata": {},
   "outputs": [
    {
     "data": {
      "image/png": "[encoded data removed]",
      "text/plain": [
       "<Figure size 432x288 with 1 Axes>"
      ]
     },
     "metadata": {
      "needs_background": "light"
     },
     "output_type": "display_data"
    }
   ],
   "source": [
    "plt.title(\"Subventions of every year\")\n",
    "plt.hist(df[\"anneeBudg\"],width=.5)\n",
    "plt.show()"
   ]
  },
  {
   "cell_type": "code",
   "execution_count": null,
   "metadata": {
    "colab": {
     "base_uri": "https://localhost:8080/",
     "height": 34
    },
    "colab_type": "code",
    "id": "29_qnUSx91vP",
    "outputId": "2109d878-fa28-4dbf-df46-c630c7bdeff1"
   },
   "outputs": [
    {
     "data": {
      "image/png": "[encoded data removed]",
      "text/plain": [
       "<Figure size 432x288 with 1 Axes>"
      ]
     },
     "metadata": {
      "needs_background": "light"
     },
     "output_type": "display_data"
    }
   ],
   "source": [
    "plt.title(\"Distribution of the amount of subvention\")\n",
    "plt.plot(df[\"montant vote\"])\n",
    "plt.show()"
   ]
  },
  {
   "cell_type": "code",
   "execution_count": null,
   "metadata": {},
   "outputs": [],
   "source": [
    "plt.title(\"Collectivité\")\n",
    "plt.hist(df[\"collectivite\"]) \n",
    "plt.show()"
   ]
  },
  {
   "cell_type": "markdown",
   "metadata": {},
   "source": [
    "To get an idea about the the activities of the associations that benefit from subventions, let's extract the activity areas listed in the dataset and visualize the most popular ones."
   ]
  },
  {
   "cell_type": "code",
   "execution_count": null,
   "metadata": {},
   "outputs": [],
   "source": [
    "secteur_activite = []   #Will contain the activity areas listed in the column \"secteur activite\"\n",
    "for i in range(0, len(df),1): \n",
    "    secteur_activite.append(df['secteur activite'].iloc[i].split(';')[0])"
   ]
  },
  {
   "cell_type": "code",
   "execution_count": null,
   "metadata": {},
   "outputs": [],
   "source": [
    "dict_secteur_activite = collections.Counter(secteur_activite)\n",
    "\n",
    "secteurs = list(dict_secteur_activite.keys())\n",
    "occurence_secteur = list(dict_secteur_activite.values())\n",
    "\n",
    "percent = 100/sum(occurence_secteur) * np.array(occurence_secteur)\n",
    "plt.figure(figsize=(12,12))\n",
    "\n",
    "patches, texts = plt.pie(occurence_secteur, labels=None,\n",
    "                  shadow=True, startangle=90)\n",
    "\n",
    "labels = ['{0} - {1:1.2f} %'.format(i,j) for i,j in zip(secteurs, percent)]\n",
    "\n",
    "plt.legend(patches, labels, loc='upper left', bbox_to_anchor=(-0.1, 1.),\n",
    "           fontsize=8)"
   ]
  },
  {
   "cell_type": "markdown",
   "metadata": {},
   "source": [
    "The most popular projects proposed by the associations are in the fields of \"Culture and arts\" and \"Education and formation\".\n",
    "\n"
   ]
  },
  {
   "cell_type": "markdown",
   "metadata": {},
   "source": [
    "Let's visualize a barplot of the top fist associations that gained subventions the most time."
   ]
  },
  {
   "cell_type": "code",
   "execution_count": null,
   "metadata": {},
   "outputs": [],
   "source": [
    "plt.figure(figsize=(12,9))\n",
    "df['beneficiaire'].value_counts()[:20].plot(kind='barh')\n",
    "plt.title('The top first associations that gained subventions the most time ')"
   ]
  },
  {
   "cell_type": "markdown",
   "metadata": {},
   "source": [
    "The top three associations that gained subventions the most time are ESPACE 19, CRESCENDO and AR-EXPRIM. Those associations are likely to gain again subventions."
   ]
  },
  {
   "cell_type": "markdown",
   "metadata": {},
   "source": [
    "__Let us now look at the relation of each variable with the target column. We consider categorical variables (with a small number of categories, so that they can be visualized).__"
   ]
  },
  {
   "cell_type": "code",
   "execution_count": null,
   "metadata": {},
   "outputs": [],
   "source": [
    "df1 = df[[\"direction\",\"montant vote\"]]\n",
    "total_montant_by_direction = df1.groupby(\"direction\")['montant vote'].apply(sum)\n",
    "sorted_montant_by_direction = dict(sorted(dict(total_montant_by_direction).items(),\n",
    "                                     key=lambda item: item[1], reverse=True))\n",
    "\n",
    "directions = list(sorted_montant_by_direction.keys())\n",
    "montants = list(sorted_montant_by_direction.values())\n",
    "\n",
    "plt.figure(figsize=(16,9))\n",
    "sns.barplot(x=directions, y=montants, orient='v')\n",
    "plt.xlabel('Direction')\n",
    "plt.ylabel('Total amount')\n",
    "plt.title('Total amount of grants voted by Direction (Main direction of grant)')\n",
    "\n"
   ]
  },
  {
   "cell_type": "markdown",
   "metadata": {},
   "source": [
    "As we can see in the next plot, the direction \"DAC\" has voted the bigger total amount of grants (around 600 million euros) followed by \"DFPE\" (around 400 million euros)."
   ]
  },
  {
   "cell_type": "code",
   "execution_count": null,
   "metadata": {},
   "outputs": [],
   "source": [
    "df1 = df[[\"anneeBudg\",\"montant vote\"]]\n",
    "total_montant_by_annee = df1.groupby(\"anneeBudg\")['montant vote'].apply(sum)\n",
    "sorted_montant_by_annee = dict(sorted(dict(total_montant_by_annee).items(),\n",
    "                                     key=lambda item: item[1], reverse=True))\n",
    "\n",
    "annee = list(sorted_montant_by_annee.keys())\n",
    "montants = list(sorted_montant_by_annee.values())\n",
    "\n",
    "plt.figure(figsize=(12,9))\n",
    "sns.barplot(x=annee, y=montants, orient='v')\n",
    "plt.xlabel('Fiscal year')\n",
    "plt.ylabel('Total amount')\n",
    "plt.title('Total amount of grants voted by fiscal year')"
   ]
  },
  {
   "cell_type": "markdown",
   "metadata": {},
   "source": [
    "The total amount of grants voted is increasing every year."
   ]
  },
  {
   "cell_type": "code",
   "execution_count": null,
   "metadata": {},
   "outputs": [],
   "source": [
    "plt.figure(figsize=(12,5))\n",
    "sns.barplot(x='Nature de la subvention', y='montant vote', data=df, orient='v')\n",
    "plt.xlabel('Nature de la subvention')\n",
    "plt.ylabel('Total amount voted')\n",
    "plt.title('Total amount of grants voted by subvention nature')"
   ]
  },
  {
   "cell_type": "markdown",
   "metadata": {},
   "source": [
    "We see that subventions requests with no nature or designation are most likely to be rejected. While subventions request to do investissement are the most accepted ones."
   ]
  },
  {
   "cell_type": "markdown",
   "metadata": {},
   "source": [
    "let us summary some important patterns that we discovered:\n",
    " - The biggest subventions are given in \"ville de Paris\" and by the directions DAC, DFPE.\n",
    " - The amount of subventions is increasing every year and is accoreded mostly to projects of investissement in the sector of \"Culture and arts\" and \"Education and formation\". \n",
    " - The subvention vary a lot and might be zero, low or very high amount.  "
   ]
  },
  {
   "cell_type": "code",
   "execution_count": null,
   "metadata": {
    "colab": {},
    "colab_type": "code",
    "id": "O0t_xMYD95xY"
   },
   "outputs": [],
   "source": [
    "for c in df.columns: \n",
    "    df[c] = df[c].astype(\"category\")  \n",
    "    df[c].fillna(df[c].mode(),inplace=True)\n",
    "    df[c] = df[c].cat.codes.values\n",
    "  "
   ]
  },
  {
   "cell_type": "code",
   "execution_count": null,
   "metadata": {},
   "outputs": [],
   "source": [
    "#data after encoding \n",
    "df.head()"
   ]
  },
  {
   "cell_type": "markdown",
   "metadata": {},
   "source": [
    "# General Idea of the model and metric"
   ]
  },
  {
   "cell_type": "markdown",
   "metadata": {},
   "source": [
    "## The Metric"
   ]
  },
  {
   "cell_type": "markdown",
   "metadata": {},
   "source": [
    "### The classification metric"
   ]
  },
  {
   "cell_type": "markdown",
   "metadata": {},
   "source": [
    "Since we have binary classification ,the F1 score is widely used to evaluate the performance of classification problems and it works as follows: \n",
    "(https://en.wikipedia.org/wiki/F1_score) "
   ]
  },
  {
   "cell_type": "markdown",
   "metadata": {},
   "source": [
    "${\\displaystyle F_{1}=\\left({\\frac {2}{\\mathrm {recall} ^{-1}+\\mathrm {precision} ^{-1}}}\\right)=2\\cdot {\\frac {\\mathrm {precision} \\cdot \\mathrm {recall} }{\\mathrm {precision} +\\mathrm {recall} }}}$"
   ]
  },
  {
   "cell_type": "markdown",
   "metadata": {},
   "source": [
    "<img src=\"https://upload.wikimedia.org/wikipedia/commons/thumb/2/26/Precisionrecall.svg/525px-Precisionrecall.svg.png\" >"
   ]
  },
  {
   "cell_type": "code",
   "execution_count": null,
   "metadata": {},
   "outputs": [],
   "source": [
    "def classification_metric(y_pred, y_test):\n",
    "    return f1_score(y_pred, y_test, average=\"weighted\")"
   ]
  },
  {
   "cell_type": "markdown",
   "metadata": {},
   "source": [
    "### Regression metric "
   ]
  },
  {
   "cell_type": "markdown",
   "metadata": {},
   "source": [
    "For the Regression metric we will use the MAE which is the average of the absolute. The choice of MAE over RMSE is that the MAE is more robust to outliers.In fact , minimizing RMSE over a set of numbers results in finding its mean while minimizing MAE over the same set results in finding the median that's why MAE is more robust.Moreover, we added a parameter tol which stands for tolerance which will enable us to tolerate predictions which are close to the real value. Since we want to have a normalized metric we can the use the version \"symmetric\" mean absolute percentage error  which is:\n",
    "$$\\frac{1}{n}\\sum_{i=1}^n{\\left|\\frac{f_i-y_i}{(f_i+y_i)/2}\\right|}$$ \n",
    "with $f_i$ are the predicted values.\n"
   ]
  },
  {
   "cell_type": "code",
   "execution_count": null,
   "metadata": {},
   "outputs": [],
   "source": [
    "def regression_metric(y_pred, y_test, tol=.05):\n",
    "    n = y_pred.shape[0]\n",
    "    diff = np.abs(y_pred - y_test)\n",
    "    mean = np.abs(y_pred + y_test) / 2\n",
    "    ratio = diff / mean\n",
    "    mask = ratio < tol\n",
    "    ratio[mask] = 0\n",
    "    \n",
    "    return np.mean(ratio)\n"
   ]
  },
  {
   "cell_type": "markdown",
   "metadata": {},
   "source": [
    "## Model Metric"
   ]
  },
  {
   "cell_type": "markdown",
   "metadata": {},
   "source": [
    "For the model metric since our model is doing both regression and classification ,the model metric will average the scores of regression and classification but with weights that we choose accodingly to what we want to emphasize more the regression or the classification as follows: "
   ]
  },
  {
   "cell_type": "markdown",
   "metadata": {},
   "source": [
    "$$params = y_{pred\\_reg}, y_{test\\_reg}, y_{pred\\_class}, y_{test\\_class}, \\alpha_{class}, \\alpha_{reg}, tol$$\n",
    "$$metric_{Model}(params)= \\alpha_{class} metric_{classification} (y_{pred\\_class}, y_{test\\_class})  + \\alpha_{reg} metric_{regression}(y_{pred\\_reg}, y_{test\\_reg},tol)  $$"
   ]
  },
  {
   "cell_type": "code",
   "execution_count": null,
   "metadata": {},
   "outputs": [],
   "source": [
    "def metric_model(y_pred_reg, y_test_reg, y_pred_class, y_test_class, alpha_class=0.5, alpha_reg=0.5,tol=.05):\n",
    "    reg_score = regression_metric(y_pred_reg, y_test_reg, tol=tol)\n",
    "    class_score = classification_metric(y_pred_class, y_test_class)\n",
    "    return alpha_class * (1-class_score) + alpha_reg*reg_score"
   ]
  },
  {
   "cell_type": "code",
   "execution_count": 45,
   "metadata": {},
   "outputs": [
    {
     "name": "stdout",
     "output_type": "stream",
     "text": [
      "The score of the test example is 0.7137969711356716\n"
     ]
    }
   ],
   "source": [
    "#Testing the metric \n",
    "alpha_class=alpha_reg = 0.5\n",
    "tol  = 0.05 \n",
    " \n",
    "y_pred_reg = np.array([1233,5000,7235,25050 , 300000]  )\n",
    "y_test_reg = np.array([1600,7000,5000,10000 , 20000]  )\n",
    "y_pred_class = np.array([1,0,1,0,0,0,1])\n",
    "y_test_class =np.array([0,0,1,0,1,0,1] )\n",
    "score = metric_model(y_pred_reg, y_test_reg, y_pred_class, y_test_class, alpha_class=0.5, alpha_reg=0.5) \n",
    "print(\"The score of the test example is \" + str(score ))\n",
    "\n"
   ]
  },
  {
   "cell_type": "code",
   "execution_count": 48,
   "metadata": {},
   "outputs": [
    {
     "name": "stdout",
     "output_type": "stream",
     "text": [
      "The score of the test example is 0.6894188616829353\n"
     ]
    }
   ],
   "source": [
    "#Testing the metric \n",
    "alpha_class=alpha_reg = 0.5\n",
    "tol  = 0.05 \n",
    " \n",
    "y_pred_reg = np.array([1233,6400,7235,25050 , 300000]  )\n",
    "y_test_reg = np.array([1600,7000,5000,10000 , 20000]  )\n",
    "y_pred_class = np.array([1,0,1,0,0,0,1])\n",
    "y_test_class =np.array([0,0,1,0,1,0,1] )\n",
    "score = metric_model(y_pred_reg, y_test_reg, y_pred_class, y_test_class, alpha_class=0.5, alpha_reg=0.5) \n",
    "print(\"The score of the test example is \" + str(score ))\n",
    "\n"
   ]
  },
  {
   "cell_type": "markdown",
   "metadata": {},
   "source": [
    "# Model"
   ]
  },
  {
   "cell_type": "code",
   "execution_count": 49,
   "metadata": {
    "colab": {},
    "colab_type": "code",
    "id": "hX6N9COs97tP"
   },
   "outputs": [],
   "source": [
    "from sklearn.ensemble import RandomForestRegressor\n",
    "from sklearn.ensemble import RandomForestClassifier\n",
    "from sklearn.model_selection import train_test_split \n",
    "from sklearn.model_selection import cross_val_score\n",
    "from sklearn.ensemble import AdaBoostRegressor\n",
    "from sklearn.tree import DecisionTreeRegressor\n",
    "from sklearn.svm import SVR"
   ]
  },
  {
   "cell_type": "code",
   "execution_count": 50,
   "metadata": {
    "colab": {},
    "colab_type": "code",
    "id": "Dcg4IMqW-fw4"
   },
   "outputs": [],
   "source": [
    "X = df.drop([\"montant vote\",\"numDoc\"],axis=1)"
   ]
  },
  {
   "cell_type": "code",
   "execution_count": 51,
   "metadata": {},
   "outputs": [
    {
     "data": {
      "text/html": [
       "<div>\n",
       "<style scoped>\n",
       "    .dataframe tbody tr th:only-of-type {\n",
       "        vertical-align: middle;\n",
       "    }\n",
       "\n",
       "    .dataframe tbody tr th {\n",
       "        vertical-align: top;\n",
       "    }\n",
       "\n",
       "    .dataframe thead th {\n",
       "        text-align: right;\n",
       "    }\n",
       "</style>\n",
       "<table border=\"1\" class=\"dataframe\">\n",
       "  <thead>\n",
       "    <tr style=\"text-align: right;\">\n",
       "      <th></th>\n",
       "      <th>anneeBudg</th>\n",
       "      <th>collectivite</th>\n",
       "      <th>beneficiaire</th>\n",
       "      <th>siret</th>\n",
       "      <th>objet du dossier</th>\n",
       "      <th>direction</th>\n",
       "      <th>Nature de la subvention</th>\n",
       "      <th>secteur activite</th>\n",
       "    </tr>\n",
       "  </thead>\n",
       "  <tbody>\n",
       "    <tr>\n",
       "      <th>0</th>\n",
       "      <td>2017</td>\n",
       "      <td>Ville de Paris</td>\n",
       "      <td>MU</td>\n",
       "      <td>44849529100057</td>\n",
       "      <td>Embrasser</td>\n",
       "      <td>DAC</td>\n",
       "      <td>Non précisée</td>\n",
       "      <td>Communication &amp; média;Culture &amp; Arts;Technique...</td>\n",
       "    </tr>\n",
       "    <tr>\n",
       "      <th>1</th>\n",
       "      <td>2017</td>\n",
       "      <td>Ville de Paris</td>\n",
       "      <td>MU</td>\n",
       "      <td>44849529100057</td>\n",
       "      <td>fonctionnement</td>\n",
       "      <td>DAC</td>\n",
       "      <td>Fonctionnement</td>\n",
       "      <td>Communication &amp; média;Culture &amp; Arts;Technique...</td>\n",
       "    </tr>\n",
       "    <tr>\n",
       "      <th>2</th>\n",
       "      <td>2017</td>\n",
       "      <td>Ville de Paris</td>\n",
       "      <td>MULTIKULTIMEDIA</td>\n",
       "      <td>79118462500014</td>\n",
       "      <td>D'ailleurs et d'ici 2017</td>\n",
       "      <td>DDCT</td>\n",
       "      <td>Projet</td>\n",
       "      <td>Communication &amp; média;Mémoire;Social</td>\n",
       "    </tr>\n",
       "    <tr>\n",
       "      <th>3</th>\n",
       "      <td>2017</td>\n",
       "      <td>Ville de Paris</td>\n",
       "      <td>NEZDAMES ET NEZSIEURS</td>\n",
       "      <td>49137876600027</td>\n",
       "      <td>festival Et 20 l'été</td>\n",
       "      <td>DAC</td>\n",
       "      <td>Non précisée</td>\n",
       "      <td>Culture &amp; Arts</td>\n",
       "    </tr>\n",
       "    <tr>\n",
       "      <th>4</th>\n",
       "      <td>2017</td>\n",
       "      <td>Ville de Paris</td>\n",
       "      <td>NO MAN'S LAND</td>\n",
       "      <td>53268273900026</td>\n",
       "      <td>Duo pour une amoureuse et son ordinateur</td>\n",
       "      <td>DAC</td>\n",
       "      <td>Projet</td>\n",
       "      <td>Culture &amp; Arts</td>\n",
       "    </tr>\n",
       "  </tbody>\n",
       "</table>\n",
       "</div>"
      ],
      "text/plain": [
       "   anneeBudg    collectivite           beneficiaire           siret  \\\n",
       "0       2017  Ville de Paris                     MU  44849529100057   \n",
       "1       2017  Ville de Paris                     MU  44849529100057   \n",
       "2       2017  Ville de Paris        MULTIKULTIMEDIA  79118462500014   \n",
       "3       2017  Ville de Paris  NEZDAMES ET NEZSIEURS  49137876600027   \n",
       "4       2017  Ville de Paris          NO MAN'S LAND  53268273900026   \n",
       "\n",
       "                           objet du dossier direction Nature de la subvention  \\\n",
       "0                                 Embrasser       DAC            Non précisée   \n",
       "1                            fonctionnement       DAC          Fonctionnement   \n",
       "2                  D'ailleurs et d'ici 2017      DDCT                  Projet   \n",
       "3                      festival Et 20 l'été       DAC            Non précisée   \n",
       "4  Duo pour une amoureuse et son ordinateur       DAC                  Projet   \n",
       "\n",
       "                                    secteur activite  \n",
       "0  Communication & média;Culture & Arts;Technique...  \n",
       "1  Communication & média;Culture & Arts;Technique...  \n",
       "2               Communication & média;Mémoire;Social  \n",
       "3                                     Culture & Arts  \n",
       "4                                     Culture & Arts  "
      ]
     },
     "execution_count": 51,
     "metadata": {},
     "output_type": "execute_result"
    }
   ],
   "source": [
    "X.head()"
   ]
  },
  {
   "cell_type": "code",
   "execution_count": 52,
   "metadata": {
    "colab": {},
    "colab_type": "code",
    "id": "CijSV_B1_S-I"
   },
   "outputs": [],
   "source": [
    "clf = RandomForestRegressor(n_estimators=64) \n",
    "#clf = AdaBoostRegressor(DecisionTreeRegressor(max_depth=128),n_estimators=64, random_state=np.random.RandomState(1))\n"
   ]
  },
  {
   "cell_type": "code",
   "execution_count": 53,
   "metadata": {
    "colab": {
     "base_uri": "https://localhost:8080/",
     "height": 34
    },
    "colab_type": "code",
    "id": "B6jaS0_q_Tu2",
    "outputId": "e2f46280-807d-40c5-8302-99e90b61de31"
   },
   "outputs": [
    {
     "name": "stderr",
     "output_type": "stream",
     "text": [
      "/media/dattebayo/5076F34376F3287C/linux/anaconda/lib/python3.7/site-packages/sklearn/model_selection/_validation.py:530: FutureWarning: From version 0.22, errors during fit will result in a cross validation score of NaN by default. Use error_score='raise' if you want an exception raised or error_score=np.nan to adopt the behavior from version 0.22.\n",
      "  FutureWarning)\n"
     ]
    },
    {
     "ename": "ValueError",
     "evalue": "could not convert string to float: 'Ville de Paris'",
     "output_type": "error",
     "traceback": [
      "\u001b[0;31m---------------------------------------------------------------------------\u001b[0m",
      "\u001b[0;31mValueError\u001b[0m                                Traceback (most recent call last)",
      "\u001b[0;32m<ipython-input-53-d728456a3701>\u001b[0m in \u001b[0;36m<module>\u001b[0;34m\u001b[0m\n\u001b[1;32m      1\u001b[0m \u001b[0;31m# predict montant voté\u001b[0m\u001b[0;34m\u001b[0m\u001b[0;34m\u001b[0m\u001b[0;34m\u001b[0m\u001b[0m\n\u001b[0;32m----> 2\u001b[0;31m \u001b[0mscores\u001b[0m \u001b[0;34m=\u001b[0m \u001b[0mcross_val_score\u001b[0m\u001b[0;34m(\u001b[0m\u001b[0mclf\u001b[0m\u001b[0;34m,\u001b[0m\u001b[0mX\u001b[0m\u001b[0;34m,\u001b[0m \u001b[0my\u001b[0m\u001b[0;34m,\u001b[0m \u001b[0mcv\u001b[0m\u001b[0;34m=\u001b[0m\u001b[0;36m5\u001b[0m\u001b[0;34m)\u001b[0m\u001b[0;34m\u001b[0m\u001b[0;34m\u001b[0m\u001b[0m\n\u001b[0m\u001b[1;32m      3\u001b[0m \u001b[0mscores\u001b[0m\u001b[0;34m\u001b[0m\u001b[0;34m\u001b[0m\u001b[0m\n",
      "\u001b[0;32m/media/dattebayo/5076F34376F3287C/linux/anaconda/lib/python3.7/site-packages/sklearn/model_selection/_validation.py\u001b[0m in \u001b[0;36mcross_val_score\u001b[0;34m(estimator, X, y, groups, scoring, cv, n_jobs, verbose, fit_params, pre_dispatch, error_score)\u001b[0m\n\u001b[1;32m    389\u001b[0m                                 \u001b[0mfit_params\u001b[0m\u001b[0;34m=\u001b[0m\u001b[0mfit_params\u001b[0m\u001b[0;34m,\u001b[0m\u001b[0;34m\u001b[0m\u001b[0;34m\u001b[0m\u001b[0m\n\u001b[1;32m    390\u001b[0m                                 \u001b[0mpre_dispatch\u001b[0m\u001b[0;34m=\u001b[0m\u001b[0mpre_dispatch\u001b[0m\u001b[0;34m,\u001b[0m\u001b[0;34m\u001b[0m\u001b[0;34m\u001b[0m\u001b[0m\n\u001b[0;32m--> 391\u001b[0;31m                                 error_score=error_score)\n\u001b[0m\u001b[1;32m    392\u001b[0m     \u001b[0;32mreturn\u001b[0m \u001b[0mcv_results\u001b[0m\u001b[0;34m[\u001b[0m\u001b[0;34m'test_score'\u001b[0m\u001b[0;34m]\u001b[0m\u001b[0;34m\u001b[0m\u001b[0;34m\u001b[0m\u001b[0m\n\u001b[1;32m    393\u001b[0m \u001b[0;34m\u001b[0m\u001b[0m\n",
      "\u001b[0;32m/media/dattebayo/5076F34376F3287C/linux/anaconda/lib/python3.7/site-packages/sklearn/model_selection/_validation.py\u001b[0m in \u001b[0;36mcross_validate\u001b[0;34m(estimator, X, y, groups, scoring, cv, n_jobs, verbose, fit_params, pre_dispatch, return_train_score, return_estimator, error_score)\u001b[0m\n\u001b[1;32m    230\u001b[0m             \u001b[0mreturn_times\u001b[0m\u001b[0;34m=\u001b[0m\u001b[0;32mTrue\u001b[0m\u001b[0;34m,\u001b[0m \u001b[0mreturn_estimator\u001b[0m\u001b[0;34m=\u001b[0m\u001b[0mreturn_estimator\u001b[0m\u001b[0;34m,\u001b[0m\u001b[0;34m\u001b[0m\u001b[0;34m\u001b[0m\u001b[0m\n\u001b[1;32m    231\u001b[0m             error_score=error_score)\n\u001b[0;32m--> 232\u001b[0;31m         for train, test in cv.split(X, y, groups))\n\u001b[0m\u001b[1;32m    233\u001b[0m \u001b[0;34m\u001b[0m\u001b[0m\n\u001b[1;32m    234\u001b[0m     \u001b[0mzipped_scores\u001b[0m \u001b[0;34m=\u001b[0m \u001b[0mlist\u001b[0m\u001b[0;34m(\u001b[0m\u001b[0mzip\u001b[0m\u001b[0;34m(\u001b[0m\u001b[0;34m*\u001b[0m\u001b[0mscores\u001b[0m\u001b[0;34m)\u001b[0m\u001b[0;34m)\u001b[0m\u001b[0;34m\u001b[0m\u001b[0;34m\u001b[0m\u001b[0m\n",
      "\u001b[0;32m~/.local/lib/python3.7/site-packages/joblib/parallel.py\u001b[0m in \u001b[0;36m__call__\u001b[0;34m(self, iterable)\u001b[0m\n\u001b[1;32m   1001\u001b[0m             \u001b[0;31m# remaining jobs.\u001b[0m\u001b[0;34m\u001b[0m\u001b[0;34m\u001b[0m\u001b[0;34m\u001b[0m\u001b[0m\n\u001b[1;32m   1002\u001b[0m             \u001b[0mself\u001b[0m\u001b[0;34m.\u001b[0m\u001b[0m_iterating\u001b[0m \u001b[0;34m=\u001b[0m \u001b[0;32mFalse\u001b[0m\u001b[0;34m\u001b[0m\u001b[0;34m\u001b[0m\u001b[0m\n\u001b[0;32m-> 1003\u001b[0;31m             \u001b[0;32mif\u001b[0m \u001b[0mself\u001b[0m\u001b[0;34m.\u001b[0m\u001b[0mdispatch_one_batch\u001b[0m\u001b[0;34m(\u001b[0m\u001b[0miterator\u001b[0m\u001b[0;34m)\u001b[0m\u001b[0;34m:\u001b[0m\u001b[0;34m\u001b[0m\u001b[0;34m\u001b[0m\u001b[0m\n\u001b[0m\u001b[1;32m   1004\u001b[0m                 \u001b[0mself\u001b[0m\u001b[0;34m.\u001b[0m\u001b[0m_iterating\u001b[0m \u001b[0;34m=\u001b[0m \u001b[0mself\u001b[0m\u001b[0;34m.\u001b[0m\u001b[0m_original_iterator\u001b[0m \u001b[0;32mis\u001b[0m \u001b[0;32mnot\u001b[0m \u001b[0;32mNone\u001b[0m\u001b[0;34m\u001b[0m\u001b[0;34m\u001b[0m\u001b[0m\n\u001b[1;32m   1005\u001b[0m \u001b[0;34m\u001b[0m\u001b[0m\n",
      "\u001b[0;32m~/.local/lib/python3.7/site-packages/joblib/parallel.py\u001b[0m in \u001b[0;36mdispatch_one_batch\u001b[0;34m(self, iterator)\u001b[0m\n\u001b[1;32m    832\u001b[0m                 \u001b[0;32mreturn\u001b[0m \u001b[0;32mFalse\u001b[0m\u001b[0;34m\u001b[0m\u001b[0;34m\u001b[0m\u001b[0m\n\u001b[1;32m    833\u001b[0m             \u001b[0;32melse\u001b[0m\u001b[0;34m:\u001b[0m\u001b[0;34m\u001b[0m\u001b[0;34m\u001b[0m\u001b[0m\n\u001b[0;32m--> 834\u001b[0;31m                 \u001b[0mself\u001b[0m\u001b[0;34m.\u001b[0m\u001b[0m_dispatch\u001b[0m\u001b[0;34m(\u001b[0m\u001b[0mtasks\u001b[0m\u001b[0;34m)\u001b[0m\u001b[0;34m\u001b[0m\u001b[0;34m\u001b[0m\u001b[0m\n\u001b[0m\u001b[1;32m    835\u001b[0m                 \u001b[0;32mreturn\u001b[0m \u001b[0;32mTrue\u001b[0m\u001b[0;34m\u001b[0m\u001b[0;34m\u001b[0m\u001b[0m\n\u001b[1;32m    836\u001b[0m \u001b[0;34m\u001b[0m\u001b[0m\n",
      "\u001b[0;32m~/.local/lib/python3.7/site-packages/joblib/parallel.py\u001b[0m in \u001b[0;36m_dispatch\u001b[0;34m(self, batch)\u001b[0m\n\u001b[1;32m    751\u001b[0m         \u001b[0;32mwith\u001b[0m \u001b[0mself\u001b[0m\u001b[0;34m.\u001b[0m\u001b[0m_lock\u001b[0m\u001b[0;34m:\u001b[0m\u001b[0;34m\u001b[0m\u001b[0;34m\u001b[0m\u001b[0m\n\u001b[1;32m    752\u001b[0m             \u001b[0mjob_idx\u001b[0m \u001b[0;34m=\u001b[0m \u001b[0mlen\u001b[0m\u001b[0;34m(\u001b[0m\u001b[0mself\u001b[0m\u001b[0;34m.\u001b[0m\u001b[0m_jobs\u001b[0m\u001b[0;34m)\u001b[0m\u001b[0;34m\u001b[0m\u001b[0;34m\u001b[0m\u001b[0m\n\u001b[0;32m--> 753\u001b[0;31m             \u001b[0mjob\u001b[0m \u001b[0;34m=\u001b[0m \u001b[0mself\u001b[0m\u001b[0;34m.\u001b[0m\u001b[0m_backend\u001b[0m\u001b[0;34m.\u001b[0m\u001b[0mapply_async\u001b[0m\u001b[0;34m(\u001b[0m\u001b[0mbatch\u001b[0m\u001b[0;34m,\u001b[0m \u001b[0mcallback\u001b[0m\u001b[0;34m=\u001b[0m\u001b[0mcb\u001b[0m\u001b[0;34m)\u001b[0m\u001b[0;34m\u001b[0m\u001b[0;34m\u001b[0m\u001b[0m\n\u001b[0m\u001b[1;32m    754\u001b[0m             \u001b[0;31m# A job can complete so quickly than its callback is\u001b[0m\u001b[0;34m\u001b[0m\u001b[0;34m\u001b[0m\u001b[0;34m\u001b[0m\u001b[0m\n\u001b[1;32m    755\u001b[0m             \u001b[0;31m# called before we get here, causing self._jobs to\u001b[0m\u001b[0;34m\u001b[0m\u001b[0;34m\u001b[0m\u001b[0;34m\u001b[0m\u001b[0m\n",
      "\u001b[0;32m~/.local/lib/python3.7/site-packages/joblib/_parallel_backends.py\u001b[0m in \u001b[0;36mapply_async\u001b[0;34m(self, func, callback)\u001b[0m\n\u001b[1;32m    199\u001b[0m     \u001b[0;32mdef\u001b[0m \u001b[0mapply_async\u001b[0m\u001b[0;34m(\u001b[0m\u001b[0mself\u001b[0m\u001b[0;34m,\u001b[0m \u001b[0mfunc\u001b[0m\u001b[0;34m,\u001b[0m \u001b[0mcallback\u001b[0m\u001b[0;34m=\u001b[0m\u001b[0;32mNone\u001b[0m\u001b[0;34m)\u001b[0m\u001b[0;34m:\u001b[0m\u001b[0;34m\u001b[0m\u001b[0;34m\u001b[0m\u001b[0m\n\u001b[1;32m    200\u001b[0m         \u001b[0;34m\"\"\"Schedule a func to be run\"\"\"\u001b[0m\u001b[0;34m\u001b[0m\u001b[0;34m\u001b[0m\u001b[0m\n\u001b[0;32m--> 201\u001b[0;31m         \u001b[0mresult\u001b[0m \u001b[0;34m=\u001b[0m \u001b[0mImmediateResult\u001b[0m\u001b[0;34m(\u001b[0m\u001b[0mfunc\u001b[0m\u001b[0;34m)\u001b[0m\u001b[0;34m\u001b[0m\u001b[0;34m\u001b[0m\u001b[0m\n\u001b[0m\u001b[1;32m    202\u001b[0m         \u001b[0;32mif\u001b[0m \u001b[0mcallback\u001b[0m\u001b[0;34m:\u001b[0m\u001b[0;34m\u001b[0m\u001b[0;34m\u001b[0m\u001b[0m\n\u001b[1;32m    203\u001b[0m             \u001b[0mcallback\u001b[0m\u001b[0;34m(\u001b[0m\u001b[0mresult\u001b[0m\u001b[0;34m)\u001b[0m\u001b[0;34m\u001b[0m\u001b[0;34m\u001b[0m\u001b[0m\n",
      "\u001b[0;32m~/.local/lib/python3.7/site-packages/joblib/_parallel_backends.py\u001b[0m in \u001b[0;36m__init__\u001b[0;34m(self, batch)\u001b[0m\n\u001b[1;32m    580\u001b[0m         \u001b[0;31m# Don't delay the application, to avoid keeping the input\u001b[0m\u001b[0;34m\u001b[0m\u001b[0;34m\u001b[0m\u001b[0;34m\u001b[0m\u001b[0m\n\u001b[1;32m    581\u001b[0m         \u001b[0;31m# arguments in memory\u001b[0m\u001b[0;34m\u001b[0m\u001b[0;34m\u001b[0m\u001b[0;34m\u001b[0m\u001b[0m\n\u001b[0;32m--> 582\u001b[0;31m         \u001b[0mself\u001b[0m\u001b[0;34m.\u001b[0m\u001b[0mresults\u001b[0m \u001b[0;34m=\u001b[0m \u001b[0mbatch\u001b[0m\u001b[0;34m(\u001b[0m\u001b[0;34m)\u001b[0m\u001b[0;34m\u001b[0m\u001b[0;34m\u001b[0m\u001b[0m\n\u001b[0m\u001b[1;32m    583\u001b[0m \u001b[0;34m\u001b[0m\u001b[0m\n\u001b[1;32m    584\u001b[0m     \u001b[0;32mdef\u001b[0m \u001b[0mget\u001b[0m\u001b[0;34m(\u001b[0m\u001b[0mself\u001b[0m\u001b[0;34m)\u001b[0m\u001b[0;34m:\u001b[0m\u001b[0;34m\u001b[0m\u001b[0;34m\u001b[0m\u001b[0m\n",
      "\u001b[0;32m~/.local/lib/python3.7/site-packages/joblib/parallel.py\u001b[0m in \u001b[0;36m__call__\u001b[0;34m(self)\u001b[0m\n\u001b[1;32m    254\u001b[0m         \u001b[0;32mwith\u001b[0m \u001b[0mparallel_backend\u001b[0m\u001b[0;34m(\u001b[0m\u001b[0mself\u001b[0m\u001b[0;34m.\u001b[0m\u001b[0m_backend\u001b[0m\u001b[0;34m,\u001b[0m \u001b[0mn_jobs\u001b[0m\u001b[0;34m=\u001b[0m\u001b[0mself\u001b[0m\u001b[0;34m.\u001b[0m\u001b[0m_n_jobs\u001b[0m\u001b[0;34m)\u001b[0m\u001b[0;34m:\u001b[0m\u001b[0;34m\u001b[0m\u001b[0;34m\u001b[0m\u001b[0m\n\u001b[1;32m    255\u001b[0m             return [func(*args, **kwargs)\n\u001b[0;32m--> 256\u001b[0;31m                     for func, args, kwargs in self.items]\n\u001b[0m\u001b[1;32m    257\u001b[0m \u001b[0;34m\u001b[0m\u001b[0m\n\u001b[1;32m    258\u001b[0m     \u001b[0;32mdef\u001b[0m \u001b[0m__len__\u001b[0m\u001b[0;34m(\u001b[0m\u001b[0mself\u001b[0m\u001b[0;34m)\u001b[0m\u001b[0;34m:\u001b[0m\u001b[0;34m\u001b[0m\u001b[0;34m\u001b[0m\u001b[0m\n",
      "\u001b[0;32m~/.local/lib/python3.7/site-packages/joblib/parallel.py\u001b[0m in \u001b[0;36m<listcomp>\u001b[0;34m(.0)\u001b[0m\n\u001b[1;32m    254\u001b[0m         \u001b[0;32mwith\u001b[0m \u001b[0mparallel_backend\u001b[0m\u001b[0;34m(\u001b[0m\u001b[0mself\u001b[0m\u001b[0;34m.\u001b[0m\u001b[0m_backend\u001b[0m\u001b[0;34m,\u001b[0m \u001b[0mn_jobs\u001b[0m\u001b[0;34m=\u001b[0m\u001b[0mself\u001b[0m\u001b[0;34m.\u001b[0m\u001b[0m_n_jobs\u001b[0m\u001b[0;34m)\u001b[0m\u001b[0;34m:\u001b[0m\u001b[0;34m\u001b[0m\u001b[0;34m\u001b[0m\u001b[0m\n\u001b[1;32m    255\u001b[0m             return [func(*args, **kwargs)\n\u001b[0;32m--> 256\u001b[0;31m                     for func, args, kwargs in self.items]\n\u001b[0m\u001b[1;32m    257\u001b[0m \u001b[0;34m\u001b[0m\u001b[0m\n\u001b[1;32m    258\u001b[0m     \u001b[0;32mdef\u001b[0m \u001b[0m__len__\u001b[0m\u001b[0;34m(\u001b[0m\u001b[0mself\u001b[0m\u001b[0;34m)\u001b[0m\u001b[0;34m:\u001b[0m\u001b[0;34m\u001b[0m\u001b[0;34m\u001b[0m\u001b[0m\n",
      "\u001b[0;32m/media/dattebayo/5076F34376F3287C/linux/anaconda/lib/python3.7/site-packages/sklearn/model_selection/_validation.py\u001b[0m in \u001b[0;36m_fit_and_score\u001b[0;34m(estimator, X, y, scorer, train, test, verbose, parameters, fit_params, return_train_score, return_parameters, return_n_test_samples, return_times, return_estimator, error_score)\u001b[0m\n\u001b[1;32m    514\u001b[0m             \u001b[0mestimator\u001b[0m\u001b[0;34m.\u001b[0m\u001b[0mfit\u001b[0m\u001b[0;34m(\u001b[0m\u001b[0mX_train\u001b[0m\u001b[0;34m,\u001b[0m \u001b[0;34m**\u001b[0m\u001b[0mfit_params\u001b[0m\u001b[0;34m)\u001b[0m\u001b[0;34m\u001b[0m\u001b[0;34m\u001b[0m\u001b[0m\n\u001b[1;32m    515\u001b[0m         \u001b[0;32melse\u001b[0m\u001b[0;34m:\u001b[0m\u001b[0;34m\u001b[0m\u001b[0;34m\u001b[0m\u001b[0m\n\u001b[0;32m--> 516\u001b[0;31m             \u001b[0mestimator\u001b[0m\u001b[0;34m.\u001b[0m\u001b[0mfit\u001b[0m\u001b[0;34m(\u001b[0m\u001b[0mX_train\u001b[0m\u001b[0;34m,\u001b[0m \u001b[0my_train\u001b[0m\u001b[0;34m,\u001b[0m \u001b[0;34m**\u001b[0m\u001b[0mfit_params\u001b[0m\u001b[0;34m)\u001b[0m\u001b[0;34m\u001b[0m\u001b[0;34m\u001b[0m\u001b[0m\n\u001b[0m\u001b[1;32m    517\u001b[0m \u001b[0;34m\u001b[0m\u001b[0m\n\u001b[1;32m    518\u001b[0m     \u001b[0;32mexcept\u001b[0m \u001b[0mException\u001b[0m \u001b[0;32mas\u001b[0m \u001b[0me\u001b[0m\u001b[0;34m:\u001b[0m\u001b[0;34m\u001b[0m\u001b[0;34m\u001b[0m\u001b[0m\n",
      "\u001b[0;32m/media/dattebayo/5076F34376F3287C/linux/anaconda/lib/python3.7/site-packages/sklearn/ensemble/forest.py\u001b[0m in \u001b[0;36mfit\u001b[0;34m(self, X, y, sample_weight)\u001b[0m\n\u001b[1;32m    247\u001b[0m \u001b[0;34m\u001b[0m\u001b[0m\n\u001b[1;32m    248\u001b[0m         \u001b[0;31m# Validate or convert input data\u001b[0m\u001b[0;34m\u001b[0m\u001b[0;34m\u001b[0m\u001b[0;34m\u001b[0m\u001b[0m\n\u001b[0;32m--> 249\u001b[0;31m         \u001b[0mX\u001b[0m \u001b[0;34m=\u001b[0m \u001b[0mcheck_array\u001b[0m\u001b[0;34m(\u001b[0m\u001b[0mX\u001b[0m\u001b[0;34m,\u001b[0m \u001b[0maccept_sparse\u001b[0m\u001b[0;34m=\u001b[0m\u001b[0;34m\"csc\"\u001b[0m\u001b[0;34m,\u001b[0m \u001b[0mdtype\u001b[0m\u001b[0;34m=\u001b[0m\u001b[0mDTYPE\u001b[0m\u001b[0;34m)\u001b[0m\u001b[0;34m\u001b[0m\u001b[0;34m\u001b[0m\u001b[0m\n\u001b[0m\u001b[1;32m    250\u001b[0m         \u001b[0my\u001b[0m \u001b[0;34m=\u001b[0m \u001b[0mcheck_array\u001b[0m\u001b[0;34m(\u001b[0m\u001b[0my\u001b[0m\u001b[0;34m,\u001b[0m \u001b[0maccept_sparse\u001b[0m\u001b[0;34m=\u001b[0m\u001b[0;34m'csc'\u001b[0m\u001b[0;34m,\u001b[0m \u001b[0mensure_2d\u001b[0m\u001b[0;34m=\u001b[0m\u001b[0;32mFalse\u001b[0m\u001b[0;34m,\u001b[0m \u001b[0mdtype\u001b[0m\u001b[0;34m=\u001b[0m\u001b[0;32mNone\u001b[0m\u001b[0;34m)\u001b[0m\u001b[0;34m\u001b[0m\u001b[0;34m\u001b[0m\u001b[0m\n\u001b[1;32m    251\u001b[0m         \u001b[0;32mif\u001b[0m \u001b[0msample_weight\u001b[0m \u001b[0;32mis\u001b[0m \u001b[0;32mnot\u001b[0m \u001b[0;32mNone\u001b[0m\u001b[0;34m:\u001b[0m\u001b[0;34m\u001b[0m\u001b[0;34m\u001b[0m\u001b[0m\n",
      "\u001b[0;32m/media/dattebayo/5076F34376F3287C/linux/anaconda/lib/python3.7/site-packages/sklearn/utils/validation.py\u001b[0m in \u001b[0;36mcheck_array\u001b[0;34m(array, accept_sparse, accept_large_sparse, dtype, order, copy, force_all_finite, ensure_2d, allow_nd, ensure_min_samples, ensure_min_features, warn_on_dtype, estimator)\u001b[0m\n\u001b[1;32m    494\u001b[0m             \u001b[0;32mtry\u001b[0m\u001b[0;34m:\u001b[0m\u001b[0;34m\u001b[0m\u001b[0;34m\u001b[0m\u001b[0m\n\u001b[1;32m    495\u001b[0m                 \u001b[0mwarnings\u001b[0m\u001b[0;34m.\u001b[0m\u001b[0msimplefilter\u001b[0m\u001b[0;34m(\u001b[0m\u001b[0;34m'error'\u001b[0m\u001b[0;34m,\u001b[0m \u001b[0mComplexWarning\u001b[0m\u001b[0;34m)\u001b[0m\u001b[0;34m\u001b[0m\u001b[0;34m\u001b[0m\u001b[0m\n\u001b[0;32m--> 496\u001b[0;31m                 \u001b[0marray\u001b[0m \u001b[0;34m=\u001b[0m \u001b[0mnp\u001b[0m\u001b[0;34m.\u001b[0m\u001b[0masarray\u001b[0m\u001b[0;34m(\u001b[0m\u001b[0marray\u001b[0m\u001b[0;34m,\u001b[0m \u001b[0mdtype\u001b[0m\u001b[0;34m=\u001b[0m\u001b[0mdtype\u001b[0m\u001b[0;34m,\u001b[0m \u001b[0morder\u001b[0m\u001b[0;34m=\u001b[0m\u001b[0morder\u001b[0m\u001b[0;34m)\u001b[0m\u001b[0;34m\u001b[0m\u001b[0;34m\u001b[0m\u001b[0m\n\u001b[0m\u001b[1;32m    497\u001b[0m             \u001b[0;32mexcept\u001b[0m \u001b[0mComplexWarning\u001b[0m\u001b[0;34m:\u001b[0m\u001b[0;34m\u001b[0m\u001b[0;34m\u001b[0m\u001b[0m\n\u001b[1;32m    498\u001b[0m                 raise ValueError(\"Complex data not supported\\n\"\n",
      "\u001b[0;32m/media/dattebayo/5076F34376F3287C/linux/anaconda/lib/python3.7/site-packages/numpy/core/numeric.py\u001b[0m in \u001b[0;36masarray\u001b[0;34m(a, dtype, order)\u001b[0m\n\u001b[1;32m    499\u001b[0m \u001b[0;34m\u001b[0m\u001b[0m\n\u001b[1;32m    500\u001b[0m     \"\"\"\n\u001b[0;32m--> 501\u001b[0;31m     \u001b[0;32mreturn\u001b[0m \u001b[0marray\u001b[0m\u001b[0;34m(\u001b[0m\u001b[0ma\u001b[0m\u001b[0;34m,\u001b[0m \u001b[0mdtype\u001b[0m\u001b[0;34m,\u001b[0m \u001b[0mcopy\u001b[0m\u001b[0;34m=\u001b[0m\u001b[0;32mFalse\u001b[0m\u001b[0;34m,\u001b[0m \u001b[0morder\u001b[0m\u001b[0;34m=\u001b[0m\u001b[0morder\u001b[0m\u001b[0;34m)\u001b[0m\u001b[0;34m\u001b[0m\u001b[0;34m\u001b[0m\u001b[0m\n\u001b[0m\u001b[1;32m    502\u001b[0m \u001b[0;34m\u001b[0m\u001b[0m\n\u001b[1;32m    503\u001b[0m \u001b[0;34m\u001b[0m\u001b[0m\n",
      "\u001b[0;31mValueError\u001b[0m: could not convert string to float: 'Ville de Paris'"
     ]
    }
   ],
   "source": [
    "# predict montant voté\n",
    "scores = cross_val_score(clf,X, y, cv=5)\n",
    "scores"
   ]
  },
  {
   "cell_type": "code",
   "execution_count": 116,
   "metadata": {},
   "outputs": [
    {
     "data": {
      "image/png": "[encoded data removed]",
      "text/plain": [
       "<Figure size 432x288 with 1 Axes>"
      ]
     },
     "metadata": {
      "needs_background": "light"
     },
     "output_type": "display_data"
    }
   ],
   "source": [
    "plt.title(\"Cross validation (5)\")\n",
    "plt.bar([str(i*100)[:5] for i in scores] ,scores)\n",
    "plt.bar(\"Mean=\"+ str(np.mean(scores)*100)[:5],np.mean(scores))\n",
    "plt.show()"
   ]
  },
  {
   "cell_type": "code",
   "execution_count": 117,
   "metadata": {
    "colab": {
     "base_uri": "https://localhost:8080/",
     "height": 34
    },
    "colab_type": "code",
    "id": "0gah6f0r_s8T",
    "outputId": "29af0392-1256-4197-843e-12ce83506142"
   },
   "outputs": [
    {
     "data": {
      "text/plain": [
       "0.6625169354806343"
      ]
     },
     "execution_count": 117,
     "metadata": {},
     "output_type": "execute_result"
    }
   ],
   "source": [
    "np.mean(scores)"
   ]
  },
  {
   "cell_type": "markdown",
   "metadata": {},
   "source": [
    "# Viz model"
   ]
  },
  {
   "cell_type": "code",
   "execution_count": 118,
   "metadata": {
    "colab": {},
    "colab_type": "code",
    "id": "xA3qG3APKgDR"
   },
   "outputs": [],
   "source": [
    "X_train,X_test,y_train,y_test = train_test_split(X,y,test_size=0.33) \n",
    "clf.fit(X_train,y_train)\n",
    "y_pred = clf.predict(X_test)"
   ]
  },
  {
   "cell_type": "code",
   "execution_count": 119,
   "metadata": {
    "colab": {
     "base_uri": "https://localhost:8080/",
     "height": 283
    },
    "colab_type": "code",
    "id": "flrLxPK2KrhS",
    "outputId": "8029c9bf-4460-499a-efe5-a5c32aebcbec"
   },
   "outputs": [
    {
     "data": {
      "image/png": "[encoded data removed]",
      "text/plain": [
       "<Figure size 432x288 with 1 Axes>"
      ]
     },
     "metadata": {
      "needs_background": "light"
     },
     "output_type": "display_data"
    }
   ],
   "source": [
    "dist = 100\n",
    "plt.plot(range(dist),y_pred[:dist],label = \"y_predicted\")\n",
    "plt.plot(range(dist),y_test[:dist],label =\"y_test\")\n",
    "plt.legend()\n",
    "plt.show()"
   ]
  }
 ],
 "metadata": {
  "colab": {
   "name": "Data Camp project.ipynb",
   "provenance": []
  },
  "kernelspec": {
   "display_name": "Python 3",
   "language": "python",
   "name": "python3"
  },
  "language_info": {
   "codemirror_mode": {
    "name": "ipython",
    "version": 3
   },
   "file_extension": ".py",
   "mimetype": "text/x-python",
   "name": "python",
   "nbconvert_exporter": "python",
   "pygments_lexer": "ipython3",
   "version": "3.7.3"
  }
 },
 "nbformat": 4,
 "nbformat_minor": 1
}
